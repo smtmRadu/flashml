{
 "cells": [
  {
   "cell_type": "code",
   "execution_count": null,
   "id": "f7ff2b32",
   "metadata": {},
   "outputs": [],
   "source": [
    "from transformers import AutoModelForCausalLM, AutoTokenizer, BitsAndBytesConfig\n",
    "from peft import LoraConfig, get_peft_model, PeftModel\n",
    "from flashml.schedulers import LRConsineAnnealingWithLinearWarmup\n",
    "import polars as pl\n",
    "import torch\n",
    "from bitsandbytes.optim import PagedLion8bit\n",
    "from flashml import (\n",
    "    inspect_model,\n",
    ")\n",
    "import os\n",
    "\n",
    "\n",
    "os.environ[\"CUDA_LAUNCH_BLOCKING\"] = \"1\"\n",
    "\n",
    "\n",
    "HYPERPARAMS = {\n",
    "    \"model\": \"Qwen/Qwen3-0.6B\",  # \"tiiuae/Falcon-H1-0.5B-Base\",\n",
    "    \"continue_from_index\": -1,\n",
    "    \"seed\": 42,\n",
    "    \"batch_size\": 2,\n",
    "    \"gradient_accumulation\": 8,\n",
    "    \"cross_entropy_weight\": torch.tensor(\n",
    "        [0.0785904383236605, 0.9214095616763395], dtype=torch.float\n",
    "    ),\n",
    "    \"epochs\": 1,\n",
    "    \"lr\": 2e-5,\n",
    "    \"betas\": (0.9, 0.999),\n",
    "    \"weight_decay\": 0.005,\n",
    "    \"quant_config\": BitsAndBytesConfig(\n",
    "        # load_in_8bit=True,\n",
    "        load_in_4bit=True,\n",
    "        bnb_4bit_compute_dtype=torch.bfloat16,\n",
    "        bnb_4bit_quant_type=\"nf4\",\n",
    "        bnb_4bit_use_double_quant=True,\n",
    "    ),\n",
    "    \"lora_config\": LoraConfig(\n",
    "        r=32,  # 8\n",
    "        lora_alpha=32,  # 16\n",
    "        target_modules=[\n",
    "            \"q_proj\",\n",
    "            \"v_proj\",\n",
    "        ],\n",
    "        lora_dropout=0.05,\n",
    "        bias=\"none\",\n",
    "        task_type=\"CAUSAL_LM\",\n",
    "    ),\n",
    "}\n"
   ]
  },
  {
   "cell_type": "code",
   "execution_count": null,
   "id": "4acf21e8",
   "metadata": {},
   "outputs": [],
   "source": [
    "model = AutoModelForCausalLM.from_pretrained(\n",
    "    HYPERPARAMS[\"model\"],\n",
    "    quantization_config=HYPERPARAMS[\"quant_config\"],\n",
    "    device_map=\"cuda\",\n",
    ")\n",
    "\n",
    "inspect_model(model)"
   ]
  },
  {
   "cell_type": "code",
   "execution_count": null,
   "id": "122d1b08",
   "metadata": {},
   "outputs": [],
   "source": [
    "import torch\n",
    "x = torch.triu(torch.randn(100, 333), diagonal=-50).cuda()\n",
    "from flashml import plot_tensor\n",
    "\n",
    "plot_tensor(x)"
   ]
  },
  {
   "cell_type": "code",
   "execution_count": 5,
   "id": "4f5a65b6",
   "metadata": {},
   "outputs": [
    {
     "name": "stdout",
     "output_type": "stream",
     "text": [
      "[t-SNE] Computing 91 nearest neighbors...\n",
      "[t-SNE] Indexed 440 samples in 0.001s...\n",
      "[t-SNE] Computed neighbors for 440 samples in 0.085s...\n",
      "[t-SNE] Computed conditional probabilities for sample 440 / 440\n",
      "[t-SNE] Mean sigma: 8.189783\n",
      "[t-SNE] KL divergence after 250 iterations with early exaggeration: 56.438591\n",
      "[t-SNE] KL divergence after 300 iterations: 1.633399\n"
     ]
    },
    {
     "data": {
      "application/vnd.plotly.v1+json": {
       "config": {
        "plotlyServerURL": "https://plot.ly"
       },
       "data": [
        {
         "hovertemplate": "<b>Category: %{text}</b><br>X: %{x:.2f}<br>Y: %{y:.2f}<br>Z: %{z:.2f}<br><extra></extra>",
         "marker": {
          "color": "#636EFA",
          "line": {
           "color": "rgba(255,255,255,0.3)",
           "width": 0.5
          },
          "opacity": 0.8,
          "size": 5
         },
         "mode": "markers",
         "name": "A",
         "text": [
          "A",
          "A",
          "A",
          "A",
          "A",
          "A",
          "A",
          "A",
          "A",
          "A",
          "A",
          "A",
          "A",
          "A",
          "A",
          "A",
          "A",
          "A",
          "A",
          "A",
          "A",
          "A",
          "A",
          "A",
          "A",
          "A",
          "A",
          "A",
          "A",
          "A",
          "A",
          "A",
          "A",
          "A",
          "A",
          "A",
          "A",
          "A",
          "A",
          "A",
          "A",
          "A",
          "A",
          "A",
          "A",
          "A",
          "A",
          "A",
          "A",
          "A",
          "A",
          "A",
          "A",
          "A",
          "A",
          "A",
          "A",
          "A",
          "A",
          "A",
          "A",
          "A",
          "A",
          "A",
          "A",
          "A",
          "A",
          "A",
          "A",
          "A",
          "A",
          "A",
          "A",
          "A",
          "A",
          "A",
          "A",
          "A",
          "A",
          "A",
          "A",
          "A",
          "A",
          "A",
          "A",
          "A",
          "A",
          "A",
          "A",
          "A",
          "A",
          "A",
          "A",
          "A",
          "A",
          "A",
          "A",
          "A",
          "A",
          "A",
          "A",
          "A",
          "A",
          "A",
          "A",
          "A",
          "A",
          "A",
          "A",
          "A",
          "A",
          "A",
          "A",
          "A",
          "A",
          "A",
          "A",
          "A",
          "A",
          "A"
         ],
         "type": "scatter3d",
         "x": {
          "bdata": "AYBfP4NQFb8B3h+/tHbJv2npsr/fDa+/dvKIP/FbZMDG6Rs/+3g3v4h23j7NqV3ADMu3v7IKE8DN25u/NSBuvm8QoL7zA+u/kxXAv4Sjnr/M3qK/oynuv4WPDcDuxibAEa9ZP/0KG8AhWu+/908pvjP/7D7TjJm/0MCwPfOcu79BZ3O/KwWEwNULgcCc2gQ9u2NFwB1mIMADf4G/urBiPn/OIcCp1Oe/9zPfPXASScAFgRjALVAYQBmMD8ChGC+//LDOv0ODaL+4cYm+2cn0v2Fqt78OLz2+sB1CP7RA578mpua/aewnwFot9D4sNfO+02efvdsQu78/xzi/nXvIPfFxDcAXax4/LN/yv4wAq796wQXAD0cEwGs+q7/BoRDALA41P4J2sD4fEOa+T8BNwLPEz78/9wHAaWn/vp6PTMCcEoK/YDORvxiRJMA9PpK/hSIPvn7ISsCDAmbAz5dYv8Oii8BPJlXA/i0bwOBNCb6rqtq/wJmYP9/2PsAIq5q/tlqAv34u07/HISDA4NPav4S7Wb6/VkK/ZXeRvvNuVsAH0DDAPEYpv+XRAz5vQwvAQJAIwAcBIT+ULm/BCCQtwOY3FsAkFiW/DgoJPzY+BL9BjBc/ijeFwGiaFMD8r8Y/",
          "dtype": "f4"
         },
         "y": {
          "bdata": "MneWP2jwTkAc3JA/dAidP4Bkwj//coU/PHIEQDOOGUBHUvk/qqaEP4mffL62U21A5y03v0ATRkAHeDq/eCmFv+CDnb7w0y5ASihZQEPMEz/DUs2+kLUVPyhWOD8y5ShA7evXPzNWyz+DajRAuaTXvY0SDD+LiAo/xI3JP75Fjj+wtDZAs8Q0QF0xnT5BmdU/Ng2WPsQMAECYvrs/o3FAPfVNLD+HCVC+S1I9PXV2gD+hZoU/3xAYQLt25r7OiQZA+wIfQFk0Mj8GzLk/976lP1N6uT85M/o9UTuiPyg/BEB+gN0/NHTpPxBloj9C6GE/mB3MP7eA3b+n4IU/kkpdPuQy4b0EaRVA0xIAQDLNS0BX9lm/a+AFQEP6Yj/u2Q4/VHwCQAA8MUAw6Ju/orSGP/wN+L7CT4lApEtLQF7bC0DcDWU/9M3cP7dD0j/nJg5A1A5iQOurez/+yIY/VZwEQMUjCD8iGGFA+5wGvyOi3j+sB0m+h+c1QAMdb79cUEY/e9dGQIZ+dT+d+Rs/dJQcQF+fwz/bLWZALyKGQKGG5T8sP9k/EcYRQIt4qj+qQBA/3rsRQBcaQ7/i6KDBP2YNQF7ycEDy9UpAdpelPxvYGkCyAmG/754jQMfoQ0ASrX0/",
          "dtype": "f4"
         },
         "z": {
          "bdata": "MOmRQF/KuUDIh0ZAOwSiQC9Fp0AFXAFAu4NIQH0ibUB2qsZA+Ei3QHE6m0AFEK5APbe6QHmhkEAo5MhAYdShQJsehEAD6mBAiTM7QO8QPkD4CIlAhFfLQKtIY0ARUmxA0+FYQMdogUBwgrBAPmBDQA8sW0CT8blAnZWMQKdzYECOEqtA0lO6QDpahEBVoMlAgnJKQIv+q0DFntpAp0OkQLv800CqQapAJXSbQMEZsEA+1DtAj4e8QFwAoUCT3GZAUAo7QP8Xn0DmfbpAU/eWQBwTxUDCa5ZA7VxiQKVnG0D3L9NAm/R5QEZbokC9C+NA7cSGQMFNXkBEuUJAI3g1QHn33UDusbBAixSjQH0cgEDalqxAPpLgQPPGYEDSUJJAhI/BQK93ikDmSZ5AaQCzQPo1k0BY2YZAA2hEQPjnrEC766RAgA6SQPqtA0EPSJtAgmViQIcjsUCIvE1A6OiJQEMtxECor7JALwucQPTXaUBDjlJAeZ2hQC9/lUB2mshAqm2EQG+83UAegIlABlZhQMLygUAxL4VAK0mRQOsiikDbhX9AAauOQJ9JuEBYDJNAqi9SQIP3tkB51g5BdD+ZQCUnLUBFv8FAPgCaQOMgAkBQjLRAHpi5QMo2x0D0CqhA",
          "dtype": "f4"
         }
        },
        {
         "hovertemplate": "<b>Category: %{text}</b><br>X: %{x:.2f}<br>Y: %{y:.2f}<br>Z: %{z:.2f}<br><extra></extra>",
         "marker": {
          "color": "#EF553B",
          "line": {
           "color": "rgba(255,255,255,0.3)",
           "width": 0.5
          },
          "opacity": 0.8,
          "size": 5
         },
         "mode": "markers",
         "name": "B",
         "text": [
          "B",
          "B",
          "B",
          "B",
          "B",
          "B",
          "B",
          "B",
          "B",
          "B",
          "B",
          "B",
          "B",
          "B",
          "B",
          "B",
          "B",
          "B",
          "B",
          "B",
          "B",
          "B",
          "B",
          "B",
          "B",
          "B",
          "B",
          "B",
          "B",
          "B",
          "B",
          "B",
          "B",
          "B",
          "B",
          "B",
          "B",
          "B",
          "B",
          "B",
          "B",
          "B",
          "B",
          "B",
          "B",
          "B",
          "B",
          "B",
          "B",
          "B",
          "B",
          "B",
          "B",
          "B",
          "B",
          "B",
          "B",
          "B",
          "B",
          "B",
          "B",
          "B",
          "B",
          "B",
          "B",
          "B",
          "B",
          "B",
          "B",
          "B",
          "B",
          "B",
          "B",
          "B",
          "B",
          "B",
          "B",
          "B",
          "B",
          "B",
          "B",
          "B",
          "B",
          "B",
          "B",
          "B",
          "B",
          "B",
          "B",
          "B",
          "B",
          "B",
          "B",
          "B",
          "B",
          "B",
          "B",
          "B",
          "B",
          "B",
          "B",
          "B",
          "B",
          "B",
          "B",
          "B",
          "B",
          "B",
          "B",
          "B",
          "B",
          "B",
          "B",
          "B",
          "B",
          "B",
          "B",
          "B",
          "B",
          "B"
         ],
         "type": "scatter3d",
         "x": {
          "bdata": "IDuIwPbJFsDP7JHAvDyqwBogn8DLw0bAkRREwInlisDn/pnA7+qRwNYdlcD4SqDARIBtwPUGIcB4KLvACthZwJF/g8AsRpXAWljKwJqdpsDrpp7AwYyzwORYXMCd41HAdrlrwA+1ncAowMTAe4UVwEKlD8Ai28DAz0ALwABuvsBi9QHAYoMLwNLea8BxsofA8gyLwPVSkcATxpTA2uqxwJRM8MBJYMPA+mPIwJXAgcDjzy3A8Zd4wNOzJMAD5IzAuJk4wLv4dsDZ5Y7AmfPHwKJAmMA9S6DAOX6ZwGW9NsC+g7DA40EEwKmgg8APx8bAKQKbwLeZvMADUZTA59NvwA1hl8Auudy/m+V5wMmaW8AUN53AIWVrwBGNn8C0zUnAVbZMwITYGMD6Mb7ASXelwJR6c8DBC3/A9qQkwPLti8DlT0XA/f2EwKx1q8BGlGrACfx5wEjcRMAx/ey/5iifwGkHGcAxQkbAyZ+/wPPnr8DxYdK/xNapwKuSrMBFsbLAKUmUwMd1X8BFu4DAsCCZwPalXcAvA5XAQjejwM6CL8DcPp/AHpkYwBZJaMDvaLDAIcczwEgVjsBiynbAG3qKwNEalcC0llTAwP2swB42z8ArAIfAtZtvwJrTV8BBNNfA",
          "dtype": "f4"
         },
         "y": {
          "bdata": "c7qBP1vW7r+Cgh+/vralvnLKZ78h2zu9OOKNviPjlb4YWAM/8vdvv15Vk7/1M5E/5RsHP8eGdj8Ua9m/Ik4VwBxWSj0AAo88i859v8MCGT+/fzM/Zs4BwIJ7E78l77Q/A8SWv//6Mz4W3jM/5gHdvqPMlj+jN5W+NTUQPkxHgz+RxXe/p9rKvuuLsr/PhxU+PJCDP6psIcBo0EK/qivVvSD1Pb+D5MK/aLjvvmtVI8CBC9W+duWnP0hnij82iPO/74ipPpdtvb9BpOm/zyD+v+bMYj/7FYi/69LHvz/aNb4lR4e/oiEUwN/NF8CY9Eu/qBUBQGPwZr/aAjjANUgmv3mSZr/TMUs+2jiiv6Y8Db5yVgRAHSPiP0chDEBBO0c/v5XGPw5kvb+teho+KPZNvsGZ+j5Lv1+/BfENvfZFsr+okZa/WKKCP/n4lr5uexo/JkSlv/veob61E3+/pytKwCkJC8AOEKy/qzcTQJV8nT/XiZI+9H9tvv/nlr+K5cQ+/dMov92TEj+kj5C9PAVKwPs6AUD0Dpc/+PusPWhHBL/+qg7A/jTpPhuknr9E0l8/8EoDv20rtb9QbG0/sv6gv+yoJcA320q+9mBdv9rVTz8/XR2+cngfQL+fCsBBM48+",
          "dtype": "f4"
         },
         "z": {
          "bdata": "83V1wKxJNL5BgWq/mnPovzKXvL8tcBHAm2LDv9DMPMAlbPW9XcY1wN4oJj5IpUS/KH2AwN2ixr/TomO/1Ewov9WoQb8aZaq/eqXGvv7jFzzAet+/l+bMv+kqB8CR0YTAF88SwOntQMA/GSHA26EGwJVMNsDO9mDAbv6Xvq98bL6S0ArA+pKAvySH+L+ABgDAr0whwKcjMsDaeg/Ah1SDvzh3AMC2/d2/XwPevzWKTsDBBqy/7kKmv0EBOcDPhY2/dfQiwLCTBsAVeHbAUdBpwN4rgr84O1i8JPbjv1NqlMArti3AB8rhv6XDacAdJv6/KQ9ywJAjOsB4NQ3AHwO9v9Xq6b+SPOa/QXUuvi+Ob7+TiOy/ZVW5v3tT3r8FhKO/km6pvm3z0L/eJgfAafnVv4rp6L82KHPAbptJwGu0gcDUmxjAJ1CGPWmqwr792z3AdGsewFgohsCBZEvAumKpv0X6Gb+JP1rAvq8dwA04JMB3Rti/8I/rv11nR8BsAa6/kKAuwHx/QsCvp2y/AvVzvw3eFMBoNgDArfh9wBWcubzcnpXAlssnwJFTi74QkQXAHdywvyoRHD9kdOO/v8yQwHXOBcBiao48q2kwwIPhJMBsGIc9IGGgv8bWV7/dT4i/",
          "dtype": "f4"
         }
        },
        {
         "hovertemplate": "<b>Category: %{text}</b><br>X: %{x:.2f}<br>Y: %{y:.2f}<br>Z: %{z:.2f}<br><extra></extra>",
         "marker": {
          "color": "#00CC96",
          "line": {
           "color": "rgba(255,255,255,0.3)",
           "width": 0.5
          },
          "opacity": 0.8,
          "size": 5
         },
         "mode": "markers",
         "name": "C",
         "text": [
          "C",
          "C",
          "C",
          "C",
          "C",
          "C",
          "C",
          "C",
          "C",
          "C",
          "C",
          "C",
          "C",
          "C",
          "C",
          "C",
          "C",
          "C",
          "C",
          "C",
          "C",
          "C",
          "C",
          "C",
          "C",
          "C",
          "C",
          "C",
          "C",
          "C",
          "C",
          "C",
          "C",
          "C",
          "C",
          "C",
          "C",
          "C",
          "C",
          "C",
          "C",
          "C",
          "C",
          "C",
          "C",
          "C",
          "C",
          "C",
          "C",
          "C",
          "C",
          "C",
          "C",
          "C",
          "C",
          "C",
          "C",
          "C",
          "C",
          "C",
          "C",
          "C",
          "C",
          "C",
          "C",
          "C",
          "C",
          "C",
          "C",
          "C",
          "C",
          "C",
          "C",
          "C",
          "C",
          "C",
          "C",
          "C",
          "C",
          "C",
          "C",
          "C",
          "C",
          "C",
          "C",
          "C",
          "C",
          "C",
          "C",
          "C",
          "C",
          "C",
          "C",
          "C",
          "C",
          "C",
          "C",
          "C",
          "C",
          "C",
          "C",
          "C",
          "C",
          "C",
          "C",
          "C",
          "C",
          "C",
          "C",
          "C",
          "C",
          "C",
          "C",
          "C",
          "C",
          "C",
          "C",
          "C",
          "C",
          "C",
          "C",
          "C",
          "C",
          "C",
          "C",
          "C",
          "C",
          "C",
          "C",
          "C",
          "C",
          "C",
          "C",
          "C",
          "C",
          "C",
          "C",
          "C",
          "C",
          "C",
          "C",
          "C",
          "C",
          "C",
          "C",
          "C",
          "C",
          "C",
          "C",
          "C",
          "C",
          "C",
          "C",
          "C",
          "C",
          "C",
          "C",
          "C",
          "C",
          "C",
          "C",
          "C",
          "C",
          "C",
          "C",
          "C",
          "C",
          "C",
          "C",
          "C",
          "C",
          "C",
          "C",
          "C",
          "C",
          "C",
          "C",
          "C",
          "C",
          "C",
          "C",
          "C",
          "C",
          "C",
          "C",
          "C",
          "C",
          "C",
          "C",
          "C",
          "C",
          "C",
          "C",
          "C",
          "C",
          "C",
          "C",
          "C",
          "C",
          "C"
         ],
         "type": "scatter3d",
         "x": {
          "bdata": "qwu0QE0jZ0B1751AEZowQKqUYkBAAgpAaXIyQCzjM0DsabZAajxpQP4ciD82/HdAGLF4QPP9nD9ELyNArmcLQA+FlEBa0IdALwCZQI1h9T9GCK5A+/qCQCo2uEBgqa0/Fhh8P8v2/T/vVmk/7bFcQMHK1T8r73tAwXWrQKB+IEBkCJhA67mKPrhziz+t2MNAl82WQNU+dEC0IUVAyDK5QJahkUAurnZAANBTQObtl0CnxKRAQ99ZQFJzokAX29k/0ixvQBRZykA+nFxASGrCQCv1iEDGmiNAegXwQNhlKUD90z5AFPWfQJ0biD+yJgBA9k1vQLiRPT8kE6BAgQCHQNaVC8DZhKFAPuqxQAqzc0C8KdFAHgHTPx3Qt0BjrKRAldgOQO3KaEBAnopAmuBPQMokjkCBaIlAK6uIQMkid0CntBpAhh6qQG16AECJm5JAH8pKQLG1jkBFkS9AJik4QAO5SEA+93lAbPRiQBFrYUBICMhAmiBSQPtrfUD1xrxAW5YYQJ7Yp0DU4aZAniTNQKlQgkAMDhpAiDUvQHa4e0A7GDdAEJ0PQEiKwT+RqT9Ag0yLQF/0UkABHoZAuLuXQF5Cfj8DFwFADAStP7sMnUDt/QVAq1SNPzL0TUB1jd5As/94QEyFPEBd2D9AhnQlQL6b1kC8jC5A4Z5lQM3Zn0AykVRAVGeLQGJZoj+NRMBAVCxvQOZiEkDc1ctAXdKBQPPX7z+njv0/+E28QB5hhkB9xhVA8/F0QOyAKkBDYdI9HuJ0QHtDaUCXC6xA0IKmP22MWEA1o7I/uWoNQEUcUkBCOFZAClN1QEzMcUBYqFxAKmNOQPV5N0DjLw9ABRjIQI0q6T9L6oFAdymVQMfs+sFWlL0/Vm1VP2I/GUBCq4ZAz3kQQDW13kAYlZRA667xP+K/gUCoIbhAoOGdQB+4hj8p1FtAvRGxP0AJSEDNqC1AM0N6QCd1SECb0sQ/e+OCQKfkvUB7S6E/ph/IQIo9aEC5wjxA4YDJQBTD5D8Hg9Q/3CYmQB6KaUBOQiZAE2dpQIQr/D/iHYI/YYM/QIucZkA=",
          "dtype": "f4"
         },
         "y": {
          "bdata": "J7GBvlHnv79KrwM/qK52wKtPvL2wQGa/pbmPvijOBz85ufK/TjwpwDkSKLz5/eY9TgWSwC7NVsDONQO/gFBlv7hOMMAvJk7AcrhtvyPKmb+yBgRAqh2CPpAeT7+hNN+/EJEAQG6QHT/+ESjAi5KIv6AQKcADH5G9lQgBv2aIFMBaYZG/ofc7wEeCCMCDrOs/9GaoPvOf9D9J7kPALlRGvudjQ7+NjUXAbYpmv19Fl74P+wrAyzJYvxvBbL5ARz0/mZGDP4E8uj8j+wg/PiVlv0V3VL2LBCDAFrt+vgNW3j4nhAVApvKJP4gseL8WA0M/4DJJwFtPlb4oXxJA/fNiwOCEzcDeKbK/Kyuyv0DXU8DKzpO/W4Wxvtne4b/o9K2/KUdpQGLTasCPKf0+9Z9RP3RQGUAeSKQ/50yKP5gm0T9Jvqg9fuNwPy0Qyr/dLY8/HL8HPjWJV0BVbjM/nTJYP0WJHUBm90HAoE+Rv+0QAsAPgzo+TOQ1QOmkxr+GbTq/4Ls7P+/qxL5E6fy/lEbFvy41BkAheEPAHH7/PtAFGUD9g3HALSfPv3ICOsBxl3XAAiylv4nZ+7/dxU5AwNOzP+PvL0AqeZm/0x4AwK88lr/fxws/0lQ2QE1xFL9FpAc+L/Cyv9exgT6gSS9AU+ZMv6xNNj0w7cE+J+fAPzjxTb/eZ5q//Ivcv2HsTr5gGi/A4y6YwCp8rL9qph0/CWrCvjfQYz8PZt+/dMW+P5teej9DUkm/V/wRwPsLgcDZSeq/LhNIQArtpMB/kZO+DVVOwPoEl7+HvUS+oW8MQE7T279BdDq+vH4YP6vWkL++xMQ/H1EfwLY2mz/CVIo/egkVwHVFwjy8350/t+gqwHnYosA1wxvAAxfJvuVTdEAVYaq//ikmQPestD64/Na+ebm7v+cenD95iBFAglYMwCbJ677jQYu/ngimPxoDdz9BSdE/Qjnqv3XJF8BgSL+/fjQfwHBXFkDLKvG/51ewvzH9FMLtc0PAaWpQPy59H8CQ/ZO+sOdUP4jDiL9/RQ6/qKcIQFat8b82MwVAbmn2P9o55z8=",
          "dtype": "f4"
         },
         "z": {
          "bdata": "CKm2PpD4aMBaNlvAy06WwKDREr/LjhHAlYVOwLEoQcD+A+k+msISv5IOlr8gnZo/5y9TwNepeT6R8rC/DlztPgGPlb/qp86+1dsuvmxgScBNaoI/2zvGvqIBjb/HJ3fAur0owFj5rcBdX3+/WqY5QP5qKcDoT4a/T7rTv+G+FsCWDgfA4kqtvt1+gcD4Y5i/Y/NMwJ4Apb4hMqTAfhEqP1moEb56hIS+bsjEv6wB4T1+DS5ABQwbwOvYvT+FMbK/jkCKwGhacsAPmCU/ypngv25FMsC1Lok+A9uDP2j6R8CTGv8+PMQowNgyUMD+5E3A1+zuP7yiyr8AD9e/BU0Fv1PN7EHzux7A92xTv46nZsDbwwJAwdCLwHXrFsDHqVrAFeeGPWJKEj9jTbw+FzrAvyXkkD8qzYI9306MP6x4DEB3f0I/Yyq3P9cJL8DhTNe/z0+EPqihxL43uUC/yzeXv4QSR8DKCPw+kIwwQBQRuz/JDbW/fEXKP7P5iD+HkWvAPGebwLUDQ79mhwY/nM8Dv1P3178Z94y/FqblP537vr7Gl9y/5QyvwObs2L/ivAfA20aBwA54SL8liVrAwWONv4H7fsD6U0TA9waavsZVksDyRqXAtRIBwPjuKcAD0vg+rKGFP0+d0j/+05i+adCIPQRu+j5bmRdAh9V2wFCmBUA8xAk9ipbpPsQuiT9Xw+K/YuvjP2Arpb+vRjRArgCDwM9T078xpC4/VnWGv2k86b8a0We8PWnjv1USlsB0IabA8x/cvxuIFcBd9+a/jfSYPlszDD6CG4W/6irbv96XXMCj/TK/3EYlPsjdyb75RVLA4Wvev99hSD/7tC6/+T1wPziJCcADPde9YYxkwNXI8r8wXca+JRkov5iErz59aRPA4C9Jv6h6A8DgLZk/zJxyv0fM279x3UM/HtUBwG9hiT/0vSHAesHzvyzbKcDmOy/A6QXFPw9bWcB69N0/ehPJv6IdBz+XgYDArLYov6f7Pr/g+H4+UKrbvx1nMsDfYWG/ZXZxvwTmJ0CgcJu/mnPavx3b3j5Ye9q8ZgCTv1bYD0A=",
          "dtype": "f4"
         }
        }
       ],
       "layout": {
        "font": {
         "color": "white"
        },
        "height": 700,
        "legend": {
         "title": {
          "text": "Categories"
         }
        },
        "paper_bgcolor": "rgba(0,0,0,0.95)",
        "plot_bgcolor": "rgba(0,0,0,0.95)",
        "scene": {
         "bgcolor": "rgba(0,0,0,0.9)",
         "camera": {
          "eye": {
           "x": 1.5,
           "y": 1.5,
           "z": 1.5
          }
         },
         "xaxis": {
          "backgroundcolor": "rgba(0,0,0,0)",
          "gridcolor": "rgba(255,255,255,0.2)",
          "showbackground": true,
          "title": {
           "text": "t-SNE Dimension 1"
          },
          "zerolinecolor": "rgba(255,255,255,0.4)"
         },
         "yaxis": {
          "backgroundcolor": "rgba(0,0,0,0)",
          "gridcolor": "rgba(255,255,255,0.2)",
          "showbackground": true,
          "title": {
           "text": "t-SNE Dimension 2"
          },
          "zerolinecolor": "rgba(255,255,255,0.4)"
         },
         "zaxis": {
          "backgroundcolor": "rgba(0,0,0,0)",
          "gridcolor": "rgba(255,255,255,0.2)",
          "showbackground": true,
          "title": {
           "text": "t-SNE Dimension 3"
          },
          "zerolinecolor": "rgba(255,255,255,0.4)"
         }
        },
        "template": {
         "data": {
          "bar": [
           {
            "error_x": {
             "color": "#2a3f5f"
            },
            "error_y": {
             "color": "#2a3f5f"
            },
            "marker": {
             "line": {
              "color": "#E5ECF6",
              "width": 0.5
             },
             "pattern": {
              "fillmode": "overlay",
              "size": 10,
              "solidity": 0.2
             }
            },
            "type": "bar"
           }
          ],
          "barpolar": [
           {
            "marker": {
             "line": {
              "color": "#E5ECF6",
              "width": 0.5
             },
             "pattern": {
              "fillmode": "overlay",
              "size": 10,
              "solidity": 0.2
             }
            },
            "type": "barpolar"
           }
          ],
          "carpet": [
           {
            "aaxis": {
             "endlinecolor": "#2a3f5f",
             "gridcolor": "white",
             "linecolor": "white",
             "minorgridcolor": "white",
             "startlinecolor": "#2a3f5f"
            },
            "baxis": {
             "endlinecolor": "#2a3f5f",
             "gridcolor": "white",
             "linecolor": "white",
             "minorgridcolor": "white",
             "startlinecolor": "#2a3f5f"
            },
            "type": "carpet"
           }
          ],
          "choropleth": [
           {
            "colorbar": {
             "outlinewidth": 0,
             "ticks": ""
            },
            "type": "choropleth"
           }
          ],
          "contour": [
           {
            "colorbar": {
             "outlinewidth": 0,
             "ticks": ""
            },
            "colorscale": [
             [
              0,
              "#0d0887"
             ],
             [
              0.1111111111111111,
              "#46039f"
             ],
             [
              0.2222222222222222,
              "#7201a8"
             ],
             [
              0.3333333333333333,
              "#9c179e"
             ],
             [
              0.4444444444444444,
              "#bd3786"
             ],
             [
              0.5555555555555556,
              "#d8576b"
             ],
             [
              0.6666666666666666,
              "#ed7953"
             ],
             [
              0.7777777777777778,
              "#fb9f3a"
             ],
             [
              0.8888888888888888,
              "#fdca26"
             ],
             [
              1,
              "#f0f921"
             ]
            ],
            "type": "contour"
           }
          ],
          "contourcarpet": [
           {
            "colorbar": {
             "outlinewidth": 0,
             "ticks": ""
            },
            "type": "contourcarpet"
           }
          ],
          "heatmap": [
           {
            "colorbar": {
             "outlinewidth": 0,
             "ticks": ""
            },
            "colorscale": [
             [
              0,
              "#0d0887"
             ],
             [
              0.1111111111111111,
              "#46039f"
             ],
             [
              0.2222222222222222,
              "#7201a8"
             ],
             [
              0.3333333333333333,
              "#9c179e"
             ],
             [
              0.4444444444444444,
              "#bd3786"
             ],
             [
              0.5555555555555556,
              "#d8576b"
             ],
             [
              0.6666666666666666,
              "#ed7953"
             ],
             [
              0.7777777777777778,
              "#fb9f3a"
             ],
             [
              0.8888888888888888,
              "#fdca26"
             ],
             [
              1,
              "#f0f921"
             ]
            ],
            "type": "heatmap"
           }
          ],
          "histogram": [
           {
            "marker": {
             "pattern": {
              "fillmode": "overlay",
              "size": 10,
              "solidity": 0.2
             }
            },
            "type": "histogram"
           }
          ],
          "histogram2d": [
           {
            "colorbar": {
             "outlinewidth": 0,
             "ticks": ""
            },
            "colorscale": [
             [
              0,
              "#0d0887"
             ],
             [
              0.1111111111111111,
              "#46039f"
             ],
             [
              0.2222222222222222,
              "#7201a8"
             ],
             [
              0.3333333333333333,
              "#9c179e"
             ],
             [
              0.4444444444444444,
              "#bd3786"
             ],
             [
              0.5555555555555556,
              "#d8576b"
             ],
             [
              0.6666666666666666,
              "#ed7953"
             ],
             [
              0.7777777777777778,
              "#fb9f3a"
             ],
             [
              0.8888888888888888,
              "#fdca26"
             ],
             [
              1,
              "#f0f921"
             ]
            ],
            "type": "histogram2d"
           }
          ],
          "histogram2dcontour": [
           {
            "colorbar": {
             "outlinewidth": 0,
             "ticks": ""
            },
            "colorscale": [
             [
              0,
              "#0d0887"
             ],
             [
              0.1111111111111111,
              "#46039f"
             ],
             [
              0.2222222222222222,
              "#7201a8"
             ],
             [
              0.3333333333333333,
              "#9c179e"
             ],
             [
              0.4444444444444444,
              "#bd3786"
             ],
             [
              0.5555555555555556,
              "#d8576b"
             ],
             [
              0.6666666666666666,
              "#ed7953"
             ],
             [
              0.7777777777777778,
              "#fb9f3a"
             ],
             [
              0.8888888888888888,
              "#fdca26"
             ],
             [
              1,
              "#f0f921"
             ]
            ],
            "type": "histogram2dcontour"
           }
          ],
          "mesh3d": [
           {
            "colorbar": {
             "outlinewidth": 0,
             "ticks": ""
            },
            "type": "mesh3d"
           }
          ],
          "parcoords": [
           {
            "line": {
             "colorbar": {
              "outlinewidth": 0,
              "ticks": ""
             }
            },
            "type": "parcoords"
           }
          ],
          "pie": [
           {
            "automargin": true,
            "type": "pie"
           }
          ],
          "scatter": [
           {
            "fillpattern": {
             "fillmode": "overlay",
             "size": 10,
             "solidity": 0.2
            },
            "type": "scatter"
           }
          ],
          "scatter3d": [
           {
            "line": {
             "colorbar": {
              "outlinewidth": 0,
              "ticks": ""
             }
            },
            "marker": {
             "colorbar": {
              "outlinewidth": 0,
              "ticks": ""
             }
            },
            "type": "scatter3d"
           }
          ],
          "scattercarpet": [
           {
            "marker": {
             "colorbar": {
              "outlinewidth": 0,
              "ticks": ""
             }
            },
            "type": "scattercarpet"
           }
          ],
          "scattergeo": [
           {
            "marker": {
             "colorbar": {
              "outlinewidth": 0,
              "ticks": ""
             }
            },
            "type": "scattergeo"
           }
          ],
          "scattergl": [
           {
            "marker": {
             "colorbar": {
              "outlinewidth": 0,
              "ticks": ""
             }
            },
            "type": "scattergl"
           }
          ],
          "scattermap": [
           {
            "marker": {
             "colorbar": {
              "outlinewidth": 0,
              "ticks": ""
             }
            },
            "type": "scattermap"
           }
          ],
          "scattermapbox": [
           {
            "marker": {
             "colorbar": {
              "outlinewidth": 0,
              "ticks": ""
             }
            },
            "type": "scattermapbox"
           }
          ],
          "scatterpolar": [
           {
            "marker": {
             "colorbar": {
              "outlinewidth": 0,
              "ticks": ""
             }
            },
            "type": "scatterpolar"
           }
          ],
          "scatterpolargl": [
           {
            "marker": {
             "colorbar": {
              "outlinewidth": 0,
              "ticks": ""
             }
            },
            "type": "scatterpolargl"
           }
          ],
          "scatterternary": [
           {
            "marker": {
             "colorbar": {
              "outlinewidth": 0,
              "ticks": ""
             }
            },
            "type": "scatterternary"
           }
          ],
          "surface": [
           {
            "colorbar": {
             "outlinewidth": 0,
             "ticks": ""
            },
            "colorscale": [
             [
              0,
              "#0d0887"
             ],
             [
              0.1111111111111111,
              "#46039f"
             ],
             [
              0.2222222222222222,
              "#7201a8"
             ],
             [
              0.3333333333333333,
              "#9c179e"
             ],
             [
              0.4444444444444444,
              "#bd3786"
             ],
             [
              0.5555555555555556,
              "#d8576b"
             ],
             [
              0.6666666666666666,
              "#ed7953"
             ],
             [
              0.7777777777777778,
              "#fb9f3a"
             ],
             [
              0.8888888888888888,
              "#fdca26"
             ],
             [
              1,
              "#f0f921"
             ]
            ],
            "type": "surface"
           }
          ],
          "table": [
           {
            "cells": {
             "fill": {
              "color": "#EBF0F8"
             },
             "line": {
              "color": "white"
             }
            },
            "header": {
             "fill": {
              "color": "#C8D4E3"
             },
             "line": {
              "color": "white"
             }
            },
            "type": "table"
           }
          ]
         },
         "layout": {
          "annotationdefaults": {
           "arrowcolor": "#2a3f5f",
           "arrowhead": 0,
           "arrowwidth": 1
          },
          "autotypenumbers": "strict",
          "coloraxis": {
           "colorbar": {
            "outlinewidth": 0,
            "ticks": ""
           }
          },
          "colorscale": {
           "diverging": [
            [
             0,
             "#8e0152"
            ],
            [
             0.1,
             "#c51b7d"
            ],
            [
             0.2,
             "#de77ae"
            ],
            [
             0.3,
             "#f1b6da"
            ],
            [
             0.4,
             "#fde0ef"
            ],
            [
             0.5,
             "#f7f7f7"
            ],
            [
             0.6,
             "#e6f5d0"
            ],
            [
             0.7,
             "#b8e186"
            ],
            [
             0.8,
             "#7fbc41"
            ],
            [
             0.9,
             "#4d9221"
            ],
            [
             1,
             "#276419"
            ]
           ],
           "sequential": [
            [
             0,
             "#0d0887"
            ],
            [
             0.1111111111111111,
             "#46039f"
            ],
            [
             0.2222222222222222,
             "#7201a8"
            ],
            [
             0.3333333333333333,
             "#9c179e"
            ],
            [
             0.4444444444444444,
             "#bd3786"
            ],
            [
             0.5555555555555556,
             "#d8576b"
            ],
            [
             0.6666666666666666,
             "#ed7953"
            ],
            [
             0.7777777777777778,
             "#fb9f3a"
            ],
            [
             0.8888888888888888,
             "#fdca26"
            ],
            [
             1,
             "#f0f921"
            ]
           ],
           "sequentialminus": [
            [
             0,
             "#0d0887"
            ],
            [
             0.1111111111111111,
             "#46039f"
            ],
            [
             0.2222222222222222,
             "#7201a8"
            ],
            [
             0.3333333333333333,
             "#9c179e"
            ],
            [
             0.4444444444444444,
             "#bd3786"
            ],
            [
             0.5555555555555556,
             "#d8576b"
            ],
            [
             0.6666666666666666,
             "#ed7953"
            ],
            [
             0.7777777777777778,
             "#fb9f3a"
            ],
            [
             0.8888888888888888,
             "#fdca26"
            ],
            [
             1,
             "#f0f921"
            ]
           ]
          },
          "colorway": [
           "#636efa",
           "#EF553B",
           "#00cc96",
           "#ab63fa",
           "#FFA15A",
           "#19d3f3",
           "#FF6692",
           "#B6E880",
           "#FF97FF",
           "#FECB52"
          ],
          "font": {
           "color": "#2a3f5f"
          },
          "geo": {
           "bgcolor": "white",
           "lakecolor": "white",
           "landcolor": "#E5ECF6",
           "showlakes": true,
           "showland": true,
           "subunitcolor": "white"
          },
          "hoverlabel": {
           "align": "left"
          },
          "hovermode": "closest",
          "mapbox": {
           "style": "light"
          },
          "paper_bgcolor": "white",
          "plot_bgcolor": "#E5ECF6",
          "polar": {
           "angularaxis": {
            "gridcolor": "white",
            "linecolor": "white",
            "ticks": ""
           },
           "bgcolor": "#E5ECF6",
           "radialaxis": {
            "gridcolor": "white",
            "linecolor": "white",
            "ticks": ""
           }
          },
          "scene": {
           "xaxis": {
            "backgroundcolor": "#E5ECF6",
            "gridcolor": "white",
            "gridwidth": 2,
            "linecolor": "white",
            "showbackground": true,
            "ticks": "",
            "zerolinecolor": "white"
           },
           "yaxis": {
            "backgroundcolor": "#E5ECF6",
            "gridcolor": "white",
            "gridwidth": 2,
            "linecolor": "white",
            "showbackground": true,
            "ticks": "",
            "zerolinecolor": "white"
           },
           "zaxis": {
            "backgroundcolor": "#E5ECF6",
            "gridcolor": "white",
            "gridwidth": 2,
            "linecolor": "white",
            "showbackground": true,
            "ticks": "",
            "zerolinecolor": "white"
           }
          },
          "shapedefaults": {
           "line": {
            "color": "#2a3f5f"
           }
          },
          "ternary": {
           "aaxis": {
            "gridcolor": "white",
            "linecolor": "white",
            "ticks": ""
           },
           "baxis": {
            "gridcolor": "white",
            "linecolor": "white",
            "ticks": ""
           },
           "bgcolor": "#E5ECF6",
           "caxis": {
            "gridcolor": "white",
            "linecolor": "white",
            "ticks": ""
           }
          },
          "title": {
           "x": 0.05
          },
          "xaxis": {
           "automargin": true,
           "gridcolor": "white",
           "linecolor": "white",
           "ticks": "",
           "title": {
            "standoff": 15
           },
           "zerolinecolor": "white",
           "zerolinewidth": 2
          },
          "yaxis": {
           "automargin": true,
           "gridcolor": "white",
           "linecolor": "white",
           "ticks": "",
           "title": {
            "standoff": 15
           },
           "zerolinecolor": "white",
           "zerolinewidth": 2
          }
         }
        },
        "title": {
         "font": {
          "color": "white",
          "size": 20
         },
         "text": "t-SNE Visualization",
         "x": 0.5
        },
        "width": 900
       }
      }
     },
     "metadata": {},
     "output_type": "display_data"
    },
    {
     "data": {
      "text/plain": [
       "array([[ 0.87304693,  1.1755126 ,  4.5597153 ],\n",
       "       [-0.58325976,  3.2334232 ,  5.8059535 ],\n",
       "       [-0.62448126,  1.1317172 ,  3.1020374 ],\n",
       "       ...,\n",
       "       [ 1.016537  ,  2.0812507 , -0.02667014],\n",
       "       [ 2.9923937 ,  1.9250925 , -1.1484497 ],\n",
       "       [ 3.6033046 ,  1.806453  ,  2.247579  ]],\n",
       "      shape=(440, 3), dtype=float32)"
      ]
     },
     "execution_count": 5,
     "metadata": {},
     "output_type": "execute_result"
    }
   ],
   "source": [
    "from flashml import plot_tsne\n",
    "import numpy as np\n",
    "\n",
    "x1 = np.random.normal(loc=34, scale=3, size=(120, 99))\n",
    "x2 = np.random.normal(loc=22, scale=5, size=(120, 99))\n",
    "x3 = np.random.normal(loc=-32, scale=2, size=(200, 99))\n",
    "\n",
    "x = np.concatenate([x1, x2, x3], axis=0)\n",
    "plot_tsne(x, labels=[\"A\"] * 120 + [\"B\"] * 120 + [\"C\"] * 200)"
   ]
  }
 ],
 "metadata": {
  "kernelspec": {
   "display_name": "ml",
   "language": "python",
   "name": "python3"
  },
  "language_info": {
   "codemirror_mode": {
    "name": "ipython",
    "version": 3
   },
   "file_extension": ".py",
   "mimetype": "text/x-python",
   "name": "python",
   "nbconvert_exporter": "python",
   "pygments_lexer": "ipython3",
   "version": "3.12.9"
  }
 },
 "nbformat": 4,
 "nbformat_minor": 5
}
