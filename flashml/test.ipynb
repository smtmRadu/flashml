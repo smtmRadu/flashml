{
 "cells": [
  {
   "cell_type": "code",
   "execution_count": null,
   "id": "f7ff2b32",
   "metadata": {},
   "outputs": [],
   "source": [
    "import os\n",
    "\n",
    "import polars as pl\n",
    "import torch\n",
    "from bitsandbytes.optim import PagedLion8bit\n",
    "from peft import LoraConfig, PeftModel, get_peft_model\n",
    "from transformers import AutoModelForCausalLM, AutoTokenizer, BitsAndBytesConfig\n",
    "\n",
    "from flashml import (\n",
    "    inspect_model,\n",
    ")\n",
    "from flashml.schedulers import LRConsineAnnealingWithLinearWarmup\n",
    "\n",
    "os.environ[\"CUDA_LAUNCH_BLOCKING\"] = \"1\"\n",
    "\n",
    "\n",
    "HYPERPARAMS = {\n",
    "    \"model\": \"Qwen/Qwen3-0.6B\",  # \"tiiuae/Falcon-H1-0.5B-Base\",\n",
    "    \"continue_from_index\": -1,\n",
    "    \"seed\": 42,\n",
    "    \"batch_size\": 2,\n",
    "    \"gradient_accumulation\": 8,\n",
    "    \"cross_entropy_weight\": torch.tensor(\n",
    "        [0.0785904383236605, 0.9214095616763395], dtype=torch.float\n",
    "    ),\n",
    "    \"epochs\": 1,\n",
    "    \"lr\": 2e-5,\n",
    "    \"betas\": (0.9, 0.999),\n",
    "    \"weight_decay\": 0.005,\n",
    "    \"quant_config\": BitsAndBytesConfig(\n",
    "        # load_in_8bit=True,\n",
    "        load_in_4bit=True,\n",
    "        bnb_4bit_compute_dtype=torch.bfloat16,\n",
    "        bnb_4bit_quant_type=\"nf4\",\n",
    "        bnb_4bit_use_double_quant=True,\n",
    "    ),\n",
    "    \"lora_config\": LoraConfig(\n",
    "        r=32,  # 8\n",
    "        lora_alpha=32,  # 16\n",
    "        target_modules=[\n",
    "            \"q_proj\",\n",
    "            \"v_proj\",\n",
    "        ],\n",
    "        lora_dropout=0.05,\n",
    "        bias=\"none\",\n",
    "        task_type=\"CAUSAL_LM\",\n",
    "    ),\n",
    "}"
   ]
  },
  {
   "cell_type": "code",
   "execution_count": null,
   "id": "003ab4a1",
   "metadata": {},
   "outputs": [],
   "source": []
  },
  {
   "cell_type": "code",
   "execution_count": null,
   "id": "d0b69e27",
   "metadata": {},
   "outputs": [],
   "source": [
    "from transformers import AutoModel, AutoTokenizer\n",
    "\n",
    "tokenizer = AutoTokenizer.from_pretrained(\"answerdotai/ModernBERT-base\")\n",
    "\n",
    "from flashml import inspect_model\n",
    "\n",
    "inputs = tokenizer(\"Hello world!\", return_tensors=\"pt\")\n",
    "\n",
    "model = AutoModel.from_pretrained(\"answerdotai/ModernBERT-base\")\n",
    "import torch\n",
    "\n",
    "input_tuple = (\n",
    "    inputs[\"input_ids\"],\n",
    "    inputs[\"attention_mask\"],\n",
    "    inputs[\"token_type_ids\"] if \"token_type_ids\" in inputs else None,\n",
    ")\n",
    "\n",
    "# Inspect the model using positional inputs\n",
    "inspect_model(model, input_data=input_tuple)"
   ]
  },
  {
   "cell_type": "code",
   "execution_count": null,
   "id": "b1dc9c57",
   "metadata": {},
   "outputs": [],
   "source": [
    "from classification import make_dummy_classification_dataset\n",
    "\n",
    "x = make_dummy_classification_dataset()\n",
    "x\n",
    "\n",
    "from classification import run_dummy_classifiers, run_linear_classifier\n",
    "\n",
    "run_dummy_classifiers(*x)\n",
    "\n",
    "run_linear_classifier(*x)"
   ]
  },
  {
   "cell_type": "code",
   "execution_count": null,
   "id": "7c116716",
   "metadata": {},
   "outputs": [],
   "source": [
    "from regression import make_dummy_regression_dataset\n",
    "\n",
    "x = make_dummy_regression_dataset()\n",
    "x\n",
    "\n",
    "from regression import run_dummy_regressors, run_linear_regressor\n",
    "\n",
    "run_dummy_regressors(*x)\n",
    "\n",
    "run_linear_regressor(*x)"
   ]
  },
  {
   "cell_type": "code",
   "execution_count": null,
   "id": "f509c0ab",
   "metadata": {},
   "outputs": [],
   "source": [
    "import numpy as np\n",
    "\n",
    "# Larger dummy binary classification data\n",
    "np.random.seed(42)  # For reproducibility\n",
    "\n",
    "size = 100\n",
    "target = np.random.choice([0, 1], size=size, p=[0.6, 0.4])  # 60% zeros, 40% ones\n",
    "predicted = np.random.choice(\n",
    "    [0, 1], size=size, p=[0.5, 0.5]\n",
    ")  # Random predictions, balanced\n",
    "\n",
    "\n",
    "from classification import plot_confusion_matrix\n",
    "\n",
    "plot_confusion_matrix(predicted, target)"
   ]
  },
  {
   "cell_type": "code",
   "execution_count": null,
   "id": "a71d2537",
   "metadata": {},
   "outputs": [],
   "source": [
    "import numpy as np\n",
    "from classification import (\n",
    "    compute_binary_classification_metrics,\n",
    "    compute_multiclass_classification_metrics,\n",
    ")\n",
    "\n",
    "# Binary example\n",
    "binary_scores = np.array([[0.9], [0.7], [0.4], [0.8]])\n",
    "binary_target = np.array([[0], [1], [0], [1]])\n",
    "binary_metrics = compute_binary_classification_metrics(\n",
    "    binary_scores, binary_target, threshold=0.5\n",
    ")\n",
    "\n",
    "# Multiclass example\n",
    "multi_scores = np.array([[0.1, 0.9], [0.6, 0.4], [0.3, 0.7]])\n",
    "multi_target = np.array([1, 0, 1])\n",
    "multi_metrics = compute_multiclass_classification_metrics(multi_scores, multi_target)\n",
    "\n",
    "\n",
    "from classification import find_best_threshold\n",
    "\n",
    "t = find_best_threshold(binary_scores, binary_target, bins=100)\n",
    "\n",
    "binary_metrics\n",
    "\n",
    "t"
   ]
  },
  {
   "cell_type": "code",
   "execution_count": null,
   "id": "3650ac27",
   "metadata": {},
   "outputs": [],
   "source": [
    "t"
   ]
  },
  {
   "cell_type": "code",
   "execution_count": 2,
   "id": "b8829f61",
   "metadata": {},
   "outputs": [
    {
     "data": {
      "application/vnd.plotly.v1+json": {
       "config": {
        "plotlyServerURL": "https://plot.ly"
       },
       "data": [
        {
         "hovertemplate": "<b>False Positive Rate:</b> %{x:.3f}<br><b>True Positive Rate:</b> %{y:.3f}<br><extra></extra>",
         "line": {
          "color": "#00D4FF",
          "width": 3
         },
         "mode": "lines",
         "name": "ROC Curve (AUC = 0.828)",
         "type": "scatter",
         "x": {
          "bdata": "AAAAAAAAAAAAAAAAAAAAAAAAAAAAAAAAcIELXOACVz9wgQtc4AJXPxShCEUoQnE/FKEIRShCcT9wgQtc4AJ3P3CBC1zgAnc/zGEOc5jDfD/MYQ5zmMN8P0IRilCEIoQ/QhGKUIQihD9wgQtc4AKHP3CBC1zgAoc/nvGMZzzjiT+e8YxnPOOJP8xhDnOYw4w/zGEOc5jDjD/60Y9+9KOPP/rRj370o48/FKEIRShCkT8UoQhFKEKRPytZyUpWspI/K1nJSlaykj9ZyUpWspKVP1nJSlaykpU/cIELXOAClz9wgQtc4AKXP4c5zGEOc5g/hznMYQ5zmD+1qU1talObP7WpTW1qU5s/zGEOc5jDnD/MYQ5zmMOcPwlFKEIRiqA/CUUoQhGKoD83talNbWqjPze1qU1taqM/QhGKUIQipD9CEYpQhCKkP05talOb2qQ/Tm1qU5vapD9ZyUpWspKlP1nJSlaykqU/cIELXOACpz9wgQtc4AKnP4c5zGEOc6g/hznMYQ5zqD+TlaxkJSupP5OVrGQlK6k/zGEOc5jDrD/MYQ5zmMOsP+MZz3jGM64/4xnPeMYzrj/vda973euuP+91r3vd664/+tGPfvSjrz/60Y9+9KOvPw5zmMMc5rA/DnOYwxzmsD8UoQhFKEKxPxShCEUoQrE/IP3oRz/6sT8g/ehHP/qxPytZyUpWsrI/K1nJSlaysj83talNbWqzPze1qU1tarM/SD/60Y9+tD9IP/rRj360P3ave93rXrc/dq973etetz983ete97q3P3zd6173urc/gQtc4AIXuD+BC1zgAhe4P5OVrGQlK7k/k5WsZCUruT+YwxzmMIe5P5jDHOYwh7k/nvGMZzzjuT+e8YxnPOO5P6973ete97o/r3vd6173uj+1qU1talO7P7WpTW1qU7s/u9e97nWvuz+7173uda+7P8YznvGMZ7w/xjOe8YxnvD/d6173ute9P93rXve6170/73Wve93rvj/vda973eu+PwYucIELXMA/Bi5wgQtcwD8JRShCEYrAPwlFKEIRisA/DnOYwxzmwD8Oc5jDHObAPxrPeMYznsE/Gs94xjOewT8g/ehHP/rBPyD96Ec/+sE/UYQiFKEIxT9RhCIUoQjFP1Ob2tSmNsU/U5va1KY2xT9f97rXve7FP1/3ute97sU/Yg5zmMMcxj9iDnOYwxzGP2UlK1nJSsY/ZSUrWclKxj9qU5va1KbGP2pTm9rUpsY/bWpTm9rUxj9talOb2tTGP3ave93rXsc/dq973etexz+NZzzjGc/IP41nPOMZz8g/m9rUpja1yT+b2tSmNrXJP57xjGc848k/nvGMZzzjyT+nNrWpTW3KP6c2talNbco/spKVrGQlyz+ykpWsZCXLP7vXve51r8s/u9e97nWvyz/BBS5wgQvMP8EFLnCBC8w/xjOe8YxnzD/GM57xjGfMP8xhDnOYw8w/zGEOc5jDzD/sXve6173OP+xe97rXvc4/73Wve93rzj/vda973evOP/KMZzzjGc8/8oxnPOMZzz/0ox/96EfPP/SjH/3oR88/97rXve51zz/3ute97nXPP4QiFKEIRdA/hCIUoQhF0D8RilCEIhTRPxGKUIQiFNE/k5WsZCUr0T+TlaxkJSvRP5asZCUrWdE/lqxkJStZ0T8az3jGM57RPxrPeMYzntE/pza1qU1t0j+nNrWpTW3SP6pNbWpTm9I/qk1talOb0j83talNbWrTPze1qU1tatM/uMAFLnCB0z+4wAUucIHTPzzjGc94xtM/POMZz3jG0z++7nWve93TP77uda973dM/xjOe8Yxn1D/GM57xjGfUP8lKVrKSldQ/yUpWspKV1D9ObWpTm9rUP05talOb2tQ/z3jGM57x1D/PeMYznvHUP1GEIhShCNU/UYQiFKEI1T/Sj370ox/VP9KPfvSjH9U/U5va1KY21T9Tm9rUpjbVP1aykpWsZNU/VrKSlaxk1T/b1KY2tanVP9vUpja1qdU/aDzjGc941j9oPOMZz3jWP2pTm9rUptY/alOb2tSm1j9talOb2tTWP21qU5va1NY/cIELXOAC1z9wgQtc4ALXP4QiFKEIRdg/hCIUoQhF2D+HOcxhDnPYP4c5zGEOc9g/lqxkJStZ2T+WrGQlK1nZP5va1KY2tdk/m9rUpja12T+kH/3oRz/aP6Qf/ehHP9o/LnCBC1zg2j8ucIELXODaPzrMYQ5zmNs/OsxhDnOY2z9FKEIRilDcP0UoQhGKUNw/xjOe8Yxn3D/GM57xjGfcP0tWspKVrNw/S1aykpWs3D9Tm9rUpjbdP1Ob2tSmNt0/X/e6173u3T9f97rXve7dP2UlK1nJSt4/ZSUrWclK3j/pRz/60Y/eP+lHP/rRj94/dq973ete3z92r3vd617fPw5zmMMc5uA/DnOYwxzm4D8RilCEIhThPxGKUIQiFOE/lqxkJStZ4T+WrGQlK1nhP1aykpWsZOE/VrKSlaxk4T8XuMAFLnDhPxe4wAUucOE/mMMc5jCH4T+YwxzmMIfhP+ACF7jABeI/4AIXuMAF4j8oQhGKUITiPyhCEYpQhOI/MYc5zGEO4z8xhznMYQ7jP3OYwxzmMOM/c5jDHOYw4z9FKEIRilDkP0UoQhGKUOQ/m9rUpja15T+b2tSmNrXlP93rXve61+U/3ete97rX5T+hCEUoQhHmP6EIRShCEeY/pza1qU1t5j+nNrWpTW3mP+xe97rXveY/7F73ute95j8xhznMYQ7nPzGHOcxhDuc/UYQiFKEI6T9RhCIUoQjpP5asZCUrWek/lqxkJStZ6T9ZyUpWspLpP1nJSlaykuk/XOACF7jA6T9c4AIXuMDpP93rXve61+k/3ete97rX6T+e8YxnPOPpP57xjGc84+k/rWQlK1nJ6j+tZCUrWcnqP4ELXOACF+w/gQtc4AIX7D+1qU1talPvP7WpTW1qU+8/OsxhDnOY7z86zGEOc5jvPwAAAAAAAPA/AAAAAAAA8D8=",
          "dtype": "f8"
         },
         "y": {
          "bdata": "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",
          "dtype": "f8"
         }
        },
        {
         "hovertemplate": "<b>Random Classifier</b><br>FPR: %{x:.3f}<br>TPR: %{y:.3f}<br><extra></extra>",
         "line": {
          "color": "#FF6B6B",
          "dash": "dash",
          "width": 2
         },
         "mode": "lines",
         "name": "Random Classifier",
         "type": "scatter",
         "x": [
          0,
          1
         ],
         "y": [
          0,
          1
         ]
        }
       ],
       "layout": {
        "annotations": [
         {
          "bgcolor": "rgba(0,0,0,0.7)",
          "bordercolor": "#00D4FF",
          "borderwidth": 1,
          "font": {
           "color": "#00D4FF",
           "size": 16
          },
          "showarrow": false,
          "text": "AUC = 0.828",
          "x": 0.6,
          "y": 0.4
         }
        ],
        "font": {
         "color": "white"
        },
        "height": 600,
        "legend": {
         "bgcolor": "rgba(0,0,0,0.5)",
         "bordercolor": "white",
         "borderwidth": 1,
         "x": 0.6,
         "y": 0.2
        },
        "margin": {
         "b": 80,
         "l": 80,
         "r": 50,
         "t": 80
        },
        "paper_bgcolor": "#1E1E1E",
        "plot_bgcolor": "#1E1E1E",
        "template": {
         "data": {
          "bar": [
           {
            "error_x": {
             "color": "#f2f5fa"
            },
            "error_y": {
             "color": "#f2f5fa"
            },
            "marker": {
             "line": {
              "color": "rgb(17,17,17)",
              "width": 0.5
             },
             "pattern": {
              "fillmode": "overlay",
              "size": 10,
              "solidity": 0.2
             }
            },
            "type": "bar"
           }
          ],
          "barpolar": [
           {
            "marker": {
             "line": {
              "color": "rgb(17,17,17)",
              "width": 0.5
             },
             "pattern": {
              "fillmode": "overlay",
              "size": 10,
              "solidity": 0.2
             }
            },
            "type": "barpolar"
           }
          ],
          "carpet": [
           {
            "aaxis": {
             "endlinecolor": "#A2B1C6",
             "gridcolor": "#506784",
             "linecolor": "#506784",
             "minorgridcolor": "#506784",
             "startlinecolor": "#A2B1C6"
            },
            "baxis": {
             "endlinecolor": "#A2B1C6",
             "gridcolor": "#506784",
             "linecolor": "#506784",
             "minorgridcolor": "#506784",
             "startlinecolor": "#A2B1C6"
            },
            "type": "carpet"
           }
          ],
          "choropleth": [
           {
            "colorbar": {
             "outlinewidth": 0,
             "ticks": ""
            },
            "type": "choropleth"
           }
          ],
          "contour": [
           {
            "colorbar": {
             "outlinewidth": 0,
             "ticks": ""
            },
            "colorscale": [
             [
              0,
              "#0d0887"
             ],
             [
              0.1111111111111111,
              "#46039f"
             ],
             [
              0.2222222222222222,
              "#7201a8"
             ],
             [
              0.3333333333333333,
              "#9c179e"
             ],
             [
              0.4444444444444444,
              "#bd3786"
             ],
             [
              0.5555555555555556,
              "#d8576b"
             ],
             [
              0.6666666666666666,
              "#ed7953"
             ],
             [
              0.7777777777777778,
              "#fb9f3a"
             ],
             [
              0.8888888888888888,
              "#fdca26"
             ],
             [
              1,
              "#f0f921"
             ]
            ],
            "type": "contour"
           }
          ],
          "contourcarpet": [
           {
            "colorbar": {
             "outlinewidth": 0,
             "ticks": ""
            },
            "type": "contourcarpet"
           }
          ],
          "heatmap": [
           {
            "colorbar": {
             "outlinewidth": 0,
             "ticks": ""
            },
            "colorscale": [
             [
              0,
              "#0d0887"
             ],
             [
              0.1111111111111111,
              "#46039f"
             ],
             [
              0.2222222222222222,
              "#7201a8"
             ],
             [
              0.3333333333333333,
              "#9c179e"
             ],
             [
              0.4444444444444444,
              "#bd3786"
             ],
             [
              0.5555555555555556,
              "#d8576b"
             ],
             [
              0.6666666666666666,
              "#ed7953"
             ],
             [
              0.7777777777777778,
              "#fb9f3a"
             ],
             [
              0.8888888888888888,
              "#fdca26"
             ],
             [
              1,
              "#f0f921"
             ]
            ],
            "type": "heatmap"
           }
          ],
          "histogram": [
           {
            "marker": {
             "pattern": {
              "fillmode": "overlay",
              "size": 10,
              "solidity": 0.2
             }
            },
            "type": "histogram"
           }
          ],
          "histogram2d": [
           {
            "colorbar": {
             "outlinewidth": 0,
             "ticks": ""
            },
            "colorscale": [
             [
              0,
              "#0d0887"
             ],
             [
              0.1111111111111111,
              "#46039f"
             ],
             [
              0.2222222222222222,
              "#7201a8"
             ],
             [
              0.3333333333333333,
              "#9c179e"
             ],
             [
              0.4444444444444444,
              "#bd3786"
             ],
             [
              0.5555555555555556,
              "#d8576b"
             ],
             [
              0.6666666666666666,
              "#ed7953"
             ],
             [
              0.7777777777777778,
              "#fb9f3a"
             ],
             [
              0.8888888888888888,
              "#fdca26"
             ],
             [
              1,
              "#f0f921"
             ]
            ],
            "type": "histogram2d"
           }
          ],
          "histogram2dcontour": [
           {
            "colorbar": {
             "outlinewidth": 0,
             "ticks": ""
            },
            "colorscale": [
             [
              0,
              "#0d0887"
             ],
             [
              0.1111111111111111,
              "#46039f"
             ],
             [
              0.2222222222222222,
              "#7201a8"
             ],
             [
              0.3333333333333333,
              "#9c179e"
             ],
             [
              0.4444444444444444,
              "#bd3786"
             ],
             [
              0.5555555555555556,
              "#d8576b"
             ],
             [
              0.6666666666666666,
              "#ed7953"
             ],
             [
              0.7777777777777778,
              "#fb9f3a"
             ],
             [
              0.8888888888888888,
              "#fdca26"
             ],
             [
              1,
              "#f0f921"
             ]
            ],
            "type": "histogram2dcontour"
           }
          ],
          "mesh3d": [
           {
            "colorbar": {
             "outlinewidth": 0,
             "ticks": ""
            },
            "type": "mesh3d"
           }
          ],
          "parcoords": [
           {
            "line": {
             "colorbar": {
              "outlinewidth": 0,
              "ticks": ""
             }
            },
            "type": "parcoords"
           }
          ],
          "pie": [
           {
            "automargin": true,
            "type": "pie"
           }
          ],
          "scatter": [
           {
            "marker": {
             "line": {
              "color": "#283442"
             }
            },
            "type": "scatter"
           }
          ],
          "scatter3d": [
           {
            "line": {
             "colorbar": {
              "outlinewidth": 0,
              "ticks": ""
             }
            },
            "marker": {
             "colorbar": {
              "outlinewidth": 0,
              "ticks": ""
             }
            },
            "type": "scatter3d"
           }
          ],
          "scattercarpet": [
           {
            "marker": {
             "colorbar": {
              "outlinewidth": 0,
              "ticks": ""
             }
            },
            "type": "scattercarpet"
           }
          ],
          "scattergeo": [
           {
            "marker": {
             "colorbar": {
              "outlinewidth": 0,
              "ticks": ""
             }
            },
            "type": "scattergeo"
           }
          ],
          "scattergl": [
           {
            "marker": {
             "line": {
              "color": "#283442"
             }
            },
            "type": "scattergl"
           }
          ],
          "scattermap": [
           {
            "marker": {
             "colorbar": {
              "outlinewidth": 0,
              "ticks": ""
             }
            },
            "type": "scattermap"
           }
          ],
          "scattermapbox": [
           {
            "marker": {
             "colorbar": {
              "outlinewidth": 0,
              "ticks": ""
             }
            },
            "type": "scattermapbox"
           }
          ],
          "scatterpolar": [
           {
            "marker": {
             "colorbar": {
              "outlinewidth": 0,
              "ticks": ""
             }
            },
            "type": "scatterpolar"
           }
          ],
          "scatterpolargl": [
           {
            "marker": {
             "colorbar": {
              "outlinewidth": 0,
              "ticks": ""
             }
            },
            "type": "scatterpolargl"
           }
          ],
          "scatterternary": [
           {
            "marker": {
             "colorbar": {
              "outlinewidth": 0,
              "ticks": ""
             }
            },
            "type": "scatterternary"
           }
          ],
          "surface": [
           {
            "colorbar": {
             "outlinewidth": 0,
             "ticks": ""
            },
            "colorscale": [
             [
              0,
              "#0d0887"
             ],
             [
              0.1111111111111111,
              "#46039f"
             ],
             [
              0.2222222222222222,
              "#7201a8"
             ],
             [
              0.3333333333333333,
              "#9c179e"
             ],
             [
              0.4444444444444444,
              "#bd3786"
             ],
             [
              0.5555555555555556,
              "#d8576b"
             ],
             [
              0.6666666666666666,
              "#ed7953"
             ],
             [
              0.7777777777777778,
              "#fb9f3a"
             ],
             [
              0.8888888888888888,
              "#fdca26"
             ],
             [
              1,
              "#f0f921"
             ]
            ],
            "type": "surface"
           }
          ],
          "table": [
           {
            "cells": {
             "fill": {
              "color": "#506784"
             },
             "line": {
              "color": "rgb(17,17,17)"
             }
            },
            "header": {
             "fill": {
              "color": "#2a3f5f"
             },
             "line": {
              "color": "rgb(17,17,17)"
             }
            },
            "type": "table"
           }
          ]
         },
         "layout": {
          "annotationdefaults": {
           "arrowcolor": "#f2f5fa",
           "arrowhead": 0,
           "arrowwidth": 1
          },
          "autotypenumbers": "strict",
          "coloraxis": {
           "colorbar": {
            "outlinewidth": 0,
            "ticks": ""
           }
          },
          "colorscale": {
           "diverging": [
            [
             0,
             "#8e0152"
            ],
            [
             0.1,
             "#c51b7d"
            ],
            [
             0.2,
             "#de77ae"
            ],
            [
             0.3,
             "#f1b6da"
            ],
            [
             0.4,
             "#fde0ef"
            ],
            [
             0.5,
             "#f7f7f7"
            ],
            [
             0.6,
             "#e6f5d0"
            ],
            [
             0.7,
             "#b8e186"
            ],
            [
             0.8,
             "#7fbc41"
            ],
            [
             0.9,
             "#4d9221"
            ],
            [
             1,
             "#276419"
            ]
           ],
           "sequential": [
            [
             0,
             "#0d0887"
            ],
            [
             0.1111111111111111,
             "#46039f"
            ],
            [
             0.2222222222222222,
             "#7201a8"
            ],
            [
             0.3333333333333333,
             "#9c179e"
            ],
            [
             0.4444444444444444,
             "#bd3786"
            ],
            [
             0.5555555555555556,
             "#d8576b"
            ],
            [
             0.6666666666666666,
             "#ed7953"
            ],
            [
             0.7777777777777778,
             "#fb9f3a"
            ],
            [
             0.8888888888888888,
             "#fdca26"
            ],
            [
             1,
             "#f0f921"
            ]
           ],
           "sequentialminus": [
            [
             0,
             "#0d0887"
            ],
            [
             0.1111111111111111,
             "#46039f"
            ],
            [
             0.2222222222222222,
             "#7201a8"
            ],
            [
             0.3333333333333333,
             "#9c179e"
            ],
            [
             0.4444444444444444,
             "#bd3786"
            ],
            [
             0.5555555555555556,
             "#d8576b"
            ],
            [
             0.6666666666666666,
             "#ed7953"
            ],
            [
             0.7777777777777778,
             "#fb9f3a"
            ],
            [
             0.8888888888888888,
             "#fdca26"
            ],
            [
             1,
             "#f0f921"
            ]
           ]
          },
          "colorway": [
           "#636efa",
           "#EF553B",
           "#00cc96",
           "#ab63fa",
           "#FFA15A",
           "#19d3f3",
           "#FF6692",
           "#B6E880",
           "#FF97FF",
           "#FECB52"
          ],
          "font": {
           "color": "#f2f5fa"
          },
          "geo": {
           "bgcolor": "rgb(17,17,17)",
           "lakecolor": "rgb(17,17,17)",
           "landcolor": "rgb(17,17,17)",
           "showlakes": true,
           "showland": true,
           "subunitcolor": "#506784"
          },
          "hoverlabel": {
           "align": "left"
          },
          "hovermode": "closest",
          "mapbox": {
           "style": "dark"
          },
          "paper_bgcolor": "rgb(17,17,17)",
          "plot_bgcolor": "rgb(17,17,17)",
          "polar": {
           "angularaxis": {
            "gridcolor": "#506784",
            "linecolor": "#506784",
            "ticks": ""
           },
           "bgcolor": "rgb(17,17,17)",
           "radialaxis": {
            "gridcolor": "#506784",
            "linecolor": "#506784",
            "ticks": ""
           }
          },
          "scene": {
           "xaxis": {
            "backgroundcolor": "rgb(17,17,17)",
            "gridcolor": "#506784",
            "gridwidth": 2,
            "linecolor": "#506784",
            "showbackground": true,
            "ticks": "",
            "zerolinecolor": "#C8D4E3"
           },
           "yaxis": {
            "backgroundcolor": "rgb(17,17,17)",
            "gridcolor": "#506784",
            "gridwidth": 2,
            "linecolor": "#506784",
            "showbackground": true,
            "ticks": "",
            "zerolinecolor": "#C8D4E3"
           },
           "zaxis": {
            "backgroundcolor": "rgb(17,17,17)",
            "gridcolor": "#506784",
            "gridwidth": 2,
            "linecolor": "#506784",
            "showbackground": true,
            "ticks": "",
            "zerolinecolor": "#C8D4E3"
           }
          },
          "shapedefaults": {
           "line": {
            "color": "#f2f5fa"
           }
          },
          "sliderdefaults": {
           "bgcolor": "#C8D4E3",
           "bordercolor": "rgb(17,17,17)",
           "borderwidth": 1,
           "tickwidth": 0
          },
          "ternary": {
           "aaxis": {
            "gridcolor": "#506784",
            "linecolor": "#506784",
            "ticks": ""
           },
           "baxis": {
            "gridcolor": "#506784",
            "linecolor": "#506784",
            "ticks": ""
           },
           "bgcolor": "rgb(17,17,17)",
           "caxis": {
            "gridcolor": "#506784",
            "linecolor": "#506784",
            "ticks": ""
           }
          },
          "title": {
           "x": 0.05
          },
          "updatemenudefaults": {
           "bgcolor": "#506784",
           "borderwidth": 0
          },
          "xaxis": {
           "automargin": true,
           "gridcolor": "#283442",
           "linecolor": "#506784",
           "ticks": "",
           "title": {
            "standoff": 15
           },
           "zerolinecolor": "#283442",
           "zerolinewidth": 2
          },
          "yaxis": {
           "automargin": true,
           "gridcolor": "#283442",
           "linecolor": "#506784",
           "ticks": "",
           "title": {
            "standoff": 15
           },
           "zerolinecolor": "#283442",
           "zerolinewidth": 2
          }
         }
        },
        "width": 700,
        "xaxis": {
         "gridcolor": "#444444",
         "tickfont": {
          "color": "white"
         },
         "title": {
          "text": "False Positive Rate"
         },
         "zerolinecolor": "#666666"
        },
        "yaxis": {
         "gridcolor": "#444444",
         "tickfont": {
          "color": "white"
         },
         "title": {
          "text": "True Positive Rate"
         },
         "zerolinecolor": "#666666"
        }
       }
      }
     },
     "metadata": {},
     "output_type": "display_data"
    }
   ],
   "source": [
    "import numpy as np\n",
    "from classification import plot_roc_curve\n",
    "\n",
    "# Generate sample data\n",
    "np.random.seed(42)\n",
    "n_samples = 1000\n",
    "# Create sample scores and targets\n",
    "target = np.random.binomial(1, 0.3, n_samples)\n",
    "scores = np.random.beta(2, 5, n_samples)\n",
    "scores[target == 1] += np.random.normal(0.3, 0.2, np.sum(target == 1))\n",
    "scores = np.clip(scores, 0, 1)\n",
    "# Plot ROC curve\n",
    "fig = plot_roc_curve(scores, target)\n",
    "fig"
   ]
  },
  {
   "cell_type": "code",
   "execution_count": 1,
   "id": "f98c10fd",
   "metadata": {},
   "outputs": [],
   "source": [
    "from transformers import AutoTokenizer\n",
    "from flashml.inspect import inspect_tokenizer\n",
    "tokenizer = AutoTokenizer.from_pretrained(\"Qwen/Qwen3-4B\")\n",
    "inspect_tokenizer(tokenizer)    "
   ]
  },
  {
   "cell_type": "code",
   "execution_count": null,
   "id": "96427202",
   "metadata": {},
   "outputs": [],
   "source": [
    "inspect_tokenizer(tokenizer) "
   ]
  }
 ],
 "metadata": {
  "kernelspec": {
   "display_name": "ml",
   "language": "python",
   "name": "python3"
  },
  "language_info": {
   "codemirror_mode": {
    "name": "ipython",
    "version": 3
   },
   "file_extension": ".py",
   "mimetype": "text/x-python",
   "name": "python",
   "nbconvert_exporter": "python",
   "pygments_lexer": "ipython3",
   "version": "3.12.9"
  }
 },
 "nbformat": 4,
 "nbformat_minor": 5
}
