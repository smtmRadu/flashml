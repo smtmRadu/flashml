{
 "cells": [
  {
   "cell_type": "code",
   "execution_count": null,
   "id": "10094e43",
   "metadata": {},
   "outputs": [],
   "source": [
    "from flashml import plot_dist\n",
    "import random\n",
    "x1 = [random.randint(0, 5) for _ in range(10)]\n",
    "x2 = [random.randint(0, 200) for _x in range(1000)]\n",
    "x3 = [None, *x2, None]\n",
    "x4= [random.random() for _ in range(1000)]\n",
    "x5 = [None, *x4, None]\n",
    "x6 = [\"hi there\"  , \"jonanatha\", \"hi there\", \"hi there \"]\n",
    "x7 = [None, *x6]\n",
    "x8 = {\"daniel\": 10, \"james\": 10}\n",
    "plot_dist(x1)\n",
    "plot_dist(x2)\n",
    "plot_dist(x3)\n",
    "plot_dist(x4)\n",
    "plot_dist(x5)\n",
    "plot_dist(x6)\n",
    "plot_dist(x7)       \n",
    "plot_dist(x8)  "
   ]
  },
  {
   "cell_type": "code",
   "execution_count": null,
   "id": "671774af",
   "metadata": {},
   "outputs": [],
   "source": [
    "from flashml import host_mlflow\n",
    "\n",
    "\n",
    "host_mlflow()"
   ]
  }
 ],
 "metadata": {
  "kernelspec": {
   "display_name": "ml",
   "language": "python",
   "name": "python3"
  },
  "language_info": {
   "codemirror_mode": {
    "name": "ipython",
    "version": 3
   },
   "file_extension": ".py",
   "mimetype": "text/x-python",
   "name": "python",
   "nbconvert_exporter": "python",
   "pygments_lexer": "ipython3",
   "version": "3.12.9"
  }
 },
 "nbformat": 4,
 "nbformat_minor": 5
}
