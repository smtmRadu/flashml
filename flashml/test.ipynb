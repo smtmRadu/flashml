{
 "cells": [
  {
   "cell_type": "code",
   "execution_count": null,
   "id": "f7ff2b32",
   "metadata": {},
   "outputs": [],
   "source": [
    "import os\n",
    "\n",
    "import polars as pl\n",
    "import torch\n",
    "from bitsandbytes.optim import PagedLion8bit\n",
    "from peft import LoraConfig, PeftModel, get_peft_model\n",
    "from transformers import AutoModelForCausalLM, AutoTokenizer, BitsAndBytesConfig\n",
    "\n",
    "from flashml import (\n",
    "    inspect_model,\n",
    ")\n",
    "from flashml.schedulers import LRConsineAnnealingWithLinearWarmup\n",
    "\n",
    "os.environ[\"CUDA_LAUNCH_BLOCKING\"] = \"1\"\n",
    "\n",
    "\n",
    "HYPERPARAMS = {\n",
    "    \"model\": \"Qwen/Qwen3-0.6B\",  # \"tiiuae/Falcon-H1-0.5B-Base\",\n",
    "    \"continue_from_index\": -1,\n",
    "    \"seed\": 42,\n",
    "    \"batch_size\": 2,\n",
    "    \"gradient_accumulation\": 8,\n",
    "    \"cross_entropy_weight\": torch.tensor(\n",
    "        [0.0785904383236605, 0.9214095616763395], dtype=torch.float\n",
    "    ),\n",
    "    \"epochs\": 1,\n",
    "    \"lr\": 2e-5,\n",
    "    \"betas\": (0.9, 0.999),\n",
    "    \"weight_decay\": 0.005,\n",
    "    \"quant_config\": BitsAndBytesConfig(\n",
    "        # load_in_8bit=True,\n",
    "        load_in_4bit=True,\n",
    "        bnb_4bit_compute_dtype=torch.bfloat16,\n",
    "        bnb_4bit_quant_type=\"nf4\",\n",
    "        bnb_4bit_use_double_quant=True,\n",
    "    ),\n",
    "    \"lora_config\": LoraConfig(\n",
    "        r=32,  # 8\n",
    "        lora_alpha=32,  # 16\n",
    "        target_modules=[\n",
    "            \"q_proj\",\n",
    "            \"v_proj\",\n",
    "        ],\n",
    "        lora_dropout=0.05,\n",
    "        bias=\"none\",\n",
    "        task_type=\"CAUSAL_LM\",\n",
    "    ),\n",
    "}"
   ]
  },
  {
   "cell_type": "code",
   "execution_count": null,
   "id": "003ab4a1",
   "metadata": {},
   "outputs": [],
   "source": []
  },
  {
   "cell_type": "code",
   "execution_count": null,
   "id": "d0b69e27",
   "metadata": {},
   "outputs": [],
   "source": [
    "from transformers import AutoModel, AutoTokenizer\n",
    "\n",
    "tokenizer = AutoTokenizer.from_pretrained(\"answerdotai/ModernBERT-base\")\n",
    "\n",
    "from flashml import inspect_model\n",
    "\n",
    "inputs = tokenizer(\"Hello world!\", return_tensors=\"pt\")\n",
    "\n",
    "model = AutoModel.from_pretrained(\"answerdotai/ModernBERT-base\")\n",
    "import torch\n",
    "\n",
    "input_tuple = (\n",
    "    inputs[\"input_ids\"],\n",
    "    inputs[\"attention_mask\"],\n",
    "    inputs[\"token_type_ids\"] if \"token_type_ids\" in inputs else None,\n",
    ")\n",
    "\n",
    "# Inspect the model using positional inputs\n",
    "inspect_model(model, input_data=input_tuple)"
   ]
  },
  {
   "cell_type": "code",
   "execution_count": null,
   "id": "b1dc9c57",
   "metadata": {},
   "outputs": [],
   "source": [
    "from classification import make_dummy_classification_dataset\n",
    "\n",
    "x = make_dummy_classification_dataset()\n",
    "x\n",
    "\n",
    "from classification import run_dummy_classifiers, run_linear_classifier\n",
    "\n",
    "run_dummy_classifiers(*x)\n",
    "\n",
    "run_linear_classifier(*x)"
   ]
  },
  {
   "cell_type": "code",
   "execution_count": null,
   "id": "7c116716",
   "metadata": {},
   "outputs": [],
   "source": [
    "from regression import make_dummy_regression_dataset\n",
    "\n",
    "x = make_dummy_regression_dataset()\n",
    "x\n",
    "\n",
    "from regression import run_dummy_regressors, run_linear_regressor\n",
    "\n",
    "run_dummy_regressors(*x)\n",
    "\n",
    "run_linear_regressor(*x)"
   ]
  },
  {
   "cell_type": "code",
   "execution_count": null,
   "id": "f509c0ab",
   "metadata": {},
   "outputs": [],
   "source": [
    "import numpy as np\n",
    "\n",
    "# Larger dummy binary classification data\n",
    "np.random.seed(42)  # For reproducibility\n",
    "\n",
    "size = 100\n",
    "target = np.random.choice([0, 1], size=size, p=[0.6, 0.4])  # 60% zeros, 40% ones\n",
    "predicted = np.random.choice(\n",
    "    [0, 1], size=size, p=[0.5, 0.5]\n",
    ")  # Random predictions, balanced\n",
    "\n",
    "\n",
    "from classification import plot_confusion_matrix\n",
    "\n",
    "plot_confusion_matrix(predicted, target)"
   ]
  },
  {
   "cell_type": "code",
   "execution_count": null,
   "id": "a71d2537",
   "metadata": {},
   "outputs": [],
   "source": [
    "import numpy as np\n",
    "from classification import (\n",
    "    compute_binary_classification_metrics,\n",
    "    compute_multiclass_classification_metrics,\n",
    ")\n",
    "\n",
    "# Binary example\n",
    "binary_scores = np.array([[0.9], [0.7], [0.4], [0.8]])\n",
    "binary_target = np.array([[0], [1], [0], [1]])\n",
    "binary_metrics = compute_binary_classification_metrics(\n",
    "    binary_scores, binary_target, threshold=0.5\n",
    ")\n",
    "\n",
    "# Multiclass example\n",
    "multi_scores = np.array([[0.1, 0.9], [0.6, 0.4], [0.3, 0.7]])\n",
    "multi_target = np.array([1, 0, 1])\n",
    "multi_metrics = compute_multiclass_classification_metrics(multi_scores, multi_target)\n",
    "\n",
    "\n",
    "from classification import find_best_threshold\n",
    "\n",
    "t = find_best_threshold(binary_scores, binary_target, bins=100)\n",
    "\n",
    "binary_metrics\n",
    "\n",
    "t"
   ]
  },
  {
   "cell_type": "code",
   "execution_count": null,
   "id": "3650ac27",
   "metadata": {},
   "outputs": [],
   "source": [
    "t"
   ]
  },
  {
   "cell_type": "code",
   "execution_count": null,
   "id": "b8829f61",
   "metadata": {},
   "outputs": [],
   "source": [
    "import numpy as np\n",
    "from classification import plot_roc_curve\n",
    "\n",
    "# Generate sample data\n",
    "np.random.seed(42)\n",
    "n_samples = 1000\n",
    "# Create sample scores and targets\n",
    "target = np.random.binomial(1, 0.3, n_samples)\n",
    "scores = np.random.beta(2, 5, n_samples)\n",
    "scores[target == 1] += np.random.normal(0.3, 0.2, np.sum(target == 1))\n",
    "scores = np.clip(scores, 0, 1)\n",
    "# Plot ROC curve\n",
    "fig = plot_roc_curve(scores, target)\n",
    "fig"
   ]
  },
  {
   "cell_type": "code",
   "execution_count": null,
   "id": "f98c10fd",
   "metadata": {},
   "outputs": [],
   "source": [
    "from transformers import AutoTokenizer\n",
    "from flashml.inspect import inspect_tokenizer\n",
    "tokenizer = AutoTokenizer.from_pretrained(\"Qwen/Qwen3-4B\")\n",
    "inspect_tokenizer(tokenizer)    "
   ]
  },
  {
   "cell_type": "code",
   "execution_count": null,
   "id": "96427202",
   "metadata": {},
   "outputs": [],
   "source": [
    "inspect_tokenizer(tokenizer) "
   ]
  },
  {
   "cell_type": "code",
   "execution_count": 2,
   "id": "2e2409cd",
   "metadata": {},
   "outputs": [
    {
     "name": "stdout",
     "output_type": "stream",
     "text": [
      "\u001b[90mStarting MLFlow UI.\u001b[0m \u001b[90mMLFlow UI started.\u001b[0m "
     ]
    },
    {
     "ename": "MissingConfigException",
     "evalue": "Yaml file 'E:\\Development\\flashml\\flashml\\mlruns\\0\\meta.yaml' does not exist.",
     "output_type": "error",
     "traceback": [
      "\u001b[31m---------------------------------------------------------------------------\u001b[39m",
      "\u001b[31mMissingConfigException\u001b[39m                    Traceback (most recent call last)",
      "\u001b[36mCell\u001b[39m\u001b[36m \u001b[39m\u001b[32mIn[2]\u001b[39m\u001b[32m, line 23\u001b[39m\n\u001b[32m     21\u001b[39m loss_ = math.log2(\u001b[38;5;28mabs\u001b[39m(loss))\n\u001b[32m     22\u001b[39m acc = loss + random.random()\n\u001b[32m---> \u001b[39m\u001b[32m23\u001b[39m \u001b[43mlog_metrics\u001b[49m\u001b[43m(\u001b[49m\n\u001b[32m     24\u001b[39m \u001b[43m    \u001b[49m\u001b[43m{\u001b[49m\u001b[33;43m\"\u001b[39;49m\u001b[33;43mloss\u001b[39;49m\u001b[33;43m\"\u001b[39;49m\u001b[43m:\u001b[49m\u001b[43m \u001b[49m\u001b[43mloss_\u001b[49m\u001b[43m,\u001b[49m\u001b[43m \u001b[49m\u001b[33;43m\"\u001b[39;49m\u001b[33;43macc\u001b[39;49m\u001b[33;43m\"\u001b[39;49m\u001b[43m:\u001b[49m\u001b[43m \u001b[49m\u001b[43macc\u001b[49m\u001b[43m}\u001b[49m\u001b[43m,\u001b[49m\n\u001b[32m     25\u001b[39m \u001b[43m    \u001b[49m\u001b[38;5;66;43;03m# step=(epoch, batches * epochs),\u001b[39;49;00m\n\u001b[32m     26\u001b[39m \u001b[43m    \u001b[49m\u001b[38;5;66;43;03m# experiment_name=None,\u001b[39;49;00m\n\u001b[32m     27\u001b[39m \u001b[43m\u001b[49m\u001b[43m)\u001b[49m\n\u001b[32m     28\u001b[39m loss -= \u001b[32m1e-2\u001b[39m\n\u001b[32m     29\u001b[39m time.sleep(\u001b[32m0.0002\u001b[39m)\n",
      "\u001b[36mFile \u001b[39m\u001b[32mE:\\Development\\flashml\\flashml\\main_tools\\mlflow_logging.py:26\u001b[39m, in \u001b[36mlog_metrics\u001b[39m\u001b[34m(metrics, step, run_name, experiment_name)\u001b[39m\n\u001b[32m      4\u001b[39m \u001b[38;5;28;01mdef\u001b[39;00m\u001b[38;5;250m \u001b[39m\u001b[34mlog_metrics\u001b[39m(\n\u001b[32m      5\u001b[39m     metrics: \u001b[38;5;28mdict\u001b[39m[\u001b[38;5;28mstr\u001b[39m, Any],\n\u001b[32m      6\u001b[39m     step: Tuple[\u001b[38;5;28mint\u001b[39m, \u001b[38;5;28mint\u001b[39m] | \u001b[38;5;28mint\u001b[39m = \u001b[38;5;28;01mNone\u001b[39;00m,\n\u001b[32m      7\u001b[39m     run_name: \u001b[38;5;28mstr\u001b[39m = \u001b[38;5;28;01mNone\u001b[39;00m,  \u001b[38;5;66;03m# if default generates a funny name\u001b[39;00m\n\u001b[32m      8\u001b[39m     experiment_name: \u001b[38;5;28mstr\u001b[39m = \u001b[38;5;28;01mNone\u001b[39;00m,  \u001b[38;5;66;03m# let it Default instead of flashml because Default cannot be removed and is selected first..\u001b[39;00m\n\u001b[32m      9\u001b[39m ) -> \u001b[38;5;28;01mNone\u001b[39;00m:\n\u001b[32m     10\u001b[39m \u001b[38;5;250m    \u001b[39m\u001b[33;03m\"\"\"At first call, initializes a new MLFlow run. It is not required to be consistent (different metrics, different step etc.).\u001b[39;00m\n\u001b[32m     11\u001b[39m \u001b[33;03m    Hyperparams/Config dict (global variable) is logged automatically.\u001b[39;00m\n\u001b[32m     12\u001b[39m \n\u001b[32m   (...)\u001b[39m\u001b[32m     24\u001b[39m \u001b[33;03m        experiment_name (str): The tab where to log the experiment (even with that, you can merge them inside mlflow when comparing results)\u001b[39;00m\n\u001b[32m     25\u001b[39m \u001b[33;03m    \"\"\"\u001b[39;00m\n\u001b[32m---> \u001b[39m\u001b[32m26\u001b[39m     \u001b[43m_TrainingLogger\u001b[49m\u001b[43m.\u001b[49m\u001b[43mlog_metrics\u001b[49m\u001b[43m(\u001b[49m\n\u001b[32m     27\u001b[39m \u001b[43m        \u001b[49m\u001b[43mmetrics\u001b[49m\u001b[43m,\u001b[49m\n\u001b[32m     28\u001b[39m \u001b[43m        \u001b[49m\u001b[43mstep\u001b[49m\u001b[43m=\u001b[49m\u001b[43mstep\u001b[49m\u001b[43m,\u001b[49m\n\u001b[32m     29\u001b[39m \u001b[43m        \u001b[49m\u001b[43mrun_name\u001b[49m\u001b[43m=\u001b[49m\u001b[43mrun_name\u001b[49m\u001b[43m,\u001b[49m\n\u001b[32m     30\u001b[39m \u001b[43m        \u001b[49m\u001b[43mexperiment_name\u001b[49m\u001b[43m=\u001b[49m\u001b[43mexperiment_name\u001b[49m\u001b[43m,\u001b[49m\n\u001b[32m     31\u001b[39m \u001b[43m    \u001b[49m\u001b[43m)\u001b[49m\n",
      "\u001b[36mFile \u001b[39m\u001b[32mE:\\Development\\flashml\\flashml\\main_tools\\mlflow_logging.py:283\u001b[39m, in \u001b[36m_TrainingLogger.log_metrics\u001b[39m\u001b[34m(metrics, step, run_name, experiment_name)\u001b[39m\n\u001b[32m    281\u001b[39m \u001b[38;5;28;01massert\u001b[39;00m metrics \u001b[38;5;129;01mis\u001b[39;00m \u001b[38;5;129;01mnot\u001b[39;00m \u001b[38;5;28;01mNone\u001b[39;00m, \u001b[33m\"\u001b[39m\u001b[33mYou logged no metric\u001b[39m\u001b[33m\"\u001b[39m\n\u001b[32m    282\u001b[39m \u001b[38;5;28;01massert\u001b[39;00m \u001b[38;5;28mlen\u001b[39m(metrics) > \u001b[32m0\u001b[39m, \u001b[33m\"\u001b[39m\u001b[33mMetric log is empty\u001b[39m\u001b[33m\"\u001b[39m\n\u001b[32m--> \u001b[39m\u001b[32m283\u001b[39m logger = \u001b[43m_TrainingLogger\u001b[49m\u001b[43m(\u001b[49m\n\u001b[32m    284\u001b[39m \u001b[43m    \u001b[49m\u001b[43mnum_steps\u001b[49m\u001b[43m=\u001b[49m\u001b[38;5;28;43;01mNone\u001b[39;49;00m\u001b[43m \u001b[49m\u001b[38;5;28;43;01mif\u001b[39;49;00m\u001b[43m \u001b[49m\u001b[43mstep\u001b[49m\u001b[43m \u001b[49m\u001b[38;5;129;43;01mis\u001b[39;49;00m\u001b[43m \u001b[49m\u001b[38;5;28;43;01mNone\u001b[39;49;00m\u001b[43m \u001b[49m\u001b[38;5;129;43;01mor\u001b[39;49;00m\u001b[43m \u001b[49m\u001b[38;5;28;43misinstance\u001b[39;49m\u001b[43m(\u001b[49m\u001b[43mstep\u001b[49m\u001b[43m,\u001b[49m\u001b[43m \u001b[49m\u001b[38;5;28;43mint\u001b[39;49m\u001b[43m)\u001b[49m\u001b[43m \u001b[49m\u001b[38;5;28;43;01melse\u001b[39;49;00m\u001b[43m \u001b[49m\u001b[43mstep\u001b[49m\u001b[43m[\u001b[49m\u001b[32;43m1\u001b[39;49m\u001b[43m]\u001b[49m\u001b[43m,\u001b[49m\n\u001b[32m    285\u001b[39m \u001b[43m    \u001b[49m\u001b[43mrun_name\u001b[49m\u001b[43m=\u001b[49m\u001b[43mrun_name\u001b[49m\u001b[43m,\u001b[49m\n\u001b[32m    286\u001b[39m \u001b[43m    \u001b[49m\u001b[43mexperiment_name\u001b[49m\u001b[43m=\u001b[49m\u001b[43mexperiment_name\u001b[49m\u001b[43m,\u001b[49m\n\u001b[32m    287\u001b[39m \u001b[43m\u001b[49m\u001b[43m)\u001b[49m\n\u001b[32m    288\u001b[39m \u001b[38;5;28;01mif\u001b[39;00m step \u001b[38;5;129;01mis\u001b[39;00m \u001b[38;5;28;01mNone\u001b[39;00m:\n\u001b[32m    289\u001b[39m     logger.internal_step += \u001b[32m1\u001b[39m\n",
      "\u001b[36mFile \u001b[39m\u001b[32mE:\\Development\\flashml\\flashml\\main_tools\\mlflow_logging.py:198\u001b[39m, in \u001b[36m_TrainingLogger.__init__\u001b[39m\u001b[34m(self, num_steps, run_name, experiment_name)\u001b[39m\n\u001b[32m    195\u001b[39m     mlflow.set_experiment(experiment_name)\n\u001b[32m    197\u001b[39m \u001b[38;5;66;03m# now = datetime.now()\u001b[39;00m\n\u001b[32m--> \u001b[39m\u001b[32m198\u001b[39m \u001b[38;5;28mself\u001b[39m.mlflow_op = \u001b[43mmlflow\u001b[49m\u001b[43m.\u001b[49m\u001b[43mstart_run\u001b[49m\u001b[43m(\u001b[49m\n\u001b[32m    199\u001b[39m \u001b[43m    \u001b[49m\u001b[43mrun_name\u001b[49m\u001b[43m=\u001b[49m\u001b[43mrun_name\u001b[49m\u001b[43m,\u001b[49m\n\u001b[32m    200\u001b[39m \u001b[43m    \u001b[49m\u001b[38;5;66;43;03m# run_name=f\"run_{now.day:02d}{now.month:02d}_{now.time()}\",\u001b[39;49;00m\n\u001b[32m    201\u001b[39m \u001b[43m    \u001b[49m\u001b[43mtags\u001b[49m\u001b[43m=\u001b[49m\u001b[43m{\u001b[49m\n\u001b[32m    202\u001b[39m \u001b[43m        \u001b[49m\u001b[38;5;66;43;03m# \"random.state\": random.getstate(),\u001b[39;49;00m\n\u001b[32m    203\u001b[39m \u001b[43m        \u001b[49m\u001b[38;5;66;43;03m# \"numpy.state\": numpy.random.get_state(),\u001b[39;49;00m\n\u001b[32m    204\u001b[39m \u001b[43m        \u001b[49m\u001b[38;5;66;43;03m# \"torch.state\": torch.get_rng_state(),\u001b[39;49;00m\n\u001b[32m    205\u001b[39m \u001b[43m        \u001b[49m\u001b[38;5;66;43;03m# \"torch.cuda_all.state\": torch.cuda.get_rng_state_all(),\u001b[39;49;00m\n\u001b[32m    206\u001b[39m \u001b[43m        \u001b[49m\u001b[38;5;66;43;03m# \"torch.backends.cudnn.benchmark\": torch.backends.cudnn.benchmark,\u001b[39;49;00m\n\u001b[32m    207\u001b[39m \u001b[43m        \u001b[49m\u001b[38;5;66;43;03m# \"torch.backends.cudnn.deterministic\": torch.backends.cudnn.deterministic,\u001b[39;49;00m\n\u001b[32m    208\u001b[39m \u001b[43m    \u001b[49m\u001b[43m}\u001b[49m\u001b[43m,\u001b[49m\u001b[43m  \u001b[49m\u001b[38;5;66;43;03m# it doesn't worth to log states because they are modified before logging the first time. Instead the backends are fine.\u001b[39;49;00m\n\u001b[32m    209\u001b[39m \u001b[43m\u001b[49m\u001b[43m)\u001b[49m  \u001b[38;5;66;03m# (log_system_metrics=True)\u001b[39;00m\n\u001b[32m    211\u001b[39m \u001b[38;5;28mprint\u001b[39m(\n\u001b[32m    212\u001b[39m     \u001b[33mf\u001b[39m\u001b[33m\"\u001b[39m\u001b[38;5;130;01m\\033\u001b[39;00m\u001b[33m[90mAccess MLFlow run at:\u001b[39m\u001b[38;5;130;01m\\033\u001b[39;00m\u001b[33m[0m \u001b[39m\u001b[38;5;130;01m\\033\u001b[39;00m\u001b[33m[94mhttp://\u001b[39m\u001b[38;5;132;01m{\u001b[39;00m\u001b[38;5;28mself\u001b[39m.host\u001b[38;5;132;01m}\u001b[39;00m\u001b[33m:\u001b[39m\u001b[38;5;132;01m{\u001b[39;00m\u001b[38;5;28mself\u001b[39m.port\u001b[38;5;132;01m}\u001b[39;00m\u001b[38;5;130;01m\\033\u001b[39;00m\u001b[33m[0m \u001b[39m\u001b[38;5;130;01m\\033\u001b[39;00m\u001b[33m[95m(\u001b[39m\u001b[38;5;132;01m{\u001b[39;00m\u001b[38;5;28mself\u001b[39m.mlflow_op.info.run_name\u001b[38;5;132;01m}\u001b[39;00m\u001b[33m)\u001b[39m\u001b[38;5;130;01m\\033\u001b[39;00m\u001b[33m[0m\u001b[39m\u001b[33m\"\u001b[39m\n\u001b[32m    213\u001b[39m )\n\u001b[32m    214\u001b[39m \u001b[38;5;28mself\u001b[39m.display = tqdm(desc=\u001b[33m\"\u001b[39m\u001b[33mStep\u001b[39m\u001b[33m\"\u001b[39m, total=num_steps, leave=\u001b[38;5;28;01mFalse\u001b[39;00m)\n",
      "\u001b[36mFile \u001b[39m\u001b[32mc:\\Users\\radup\\.conda\\envs\\ml\\Lib\\site-packages\\mlflow\\tracking\\fluent.py:446\u001b[39m, in \u001b[36mstart_run\u001b[39m\u001b[34m(run_id, experiment_id, run_name, nested, parent_run_id, tags, description, log_system_metrics)\u001b[39m\n\u001b[32m    442\u001b[39m         user_specified_tags[MLFLOW_RUN_NAME] = run_name\n\u001b[32m    444\u001b[39m     resolved_tags = context_registry.resolve_tags(user_specified_tags)\n\u001b[32m--> \u001b[39m\u001b[32m446\u001b[39m     active_run_obj = \u001b[43mclient\u001b[49m\u001b[43m.\u001b[49m\u001b[43mcreate_run\u001b[49m\u001b[43m(\u001b[49m\n\u001b[32m    447\u001b[39m \u001b[43m        \u001b[49m\u001b[43mexperiment_id\u001b[49m\u001b[43m=\u001b[49m\u001b[43mexp_id_for_run\u001b[49m\u001b[43m,\u001b[49m\n\u001b[32m    448\u001b[39m \u001b[43m        \u001b[49m\u001b[43mtags\u001b[49m\u001b[43m=\u001b[49m\u001b[43mresolved_tags\u001b[49m\u001b[43m,\u001b[49m\n\u001b[32m    449\u001b[39m \u001b[43m        \u001b[49m\u001b[43mrun_name\u001b[49m\u001b[43m=\u001b[49m\u001b[43mrun_name\u001b[49m\u001b[43m,\u001b[49m\n\u001b[32m    450\u001b[39m \u001b[43m    \u001b[49m\u001b[43m)\u001b[49m\n\u001b[32m    452\u001b[39m \u001b[38;5;28;01mif\u001b[39;00m log_system_metrics \u001b[38;5;129;01mis\u001b[39;00m \u001b[38;5;28;01mNone\u001b[39;00m:\n\u001b[32m    453\u001b[39m     \u001b[38;5;66;03m# If `log_system_metrics` is not specified, we will check environment variable.\u001b[39;00m\n\u001b[32m    454\u001b[39m     log_system_metrics = MLFLOW_ENABLE_SYSTEM_METRICS_LOGGING.get()\n",
      "\u001b[36mFile \u001b[39m\u001b[32mc:\\Users\\radup\\.conda\\envs\\ml\\Lib\\site-packages\\mlflow\\tracking\\client.py:418\u001b[39m, in \u001b[36mMlflowClient.create_run\u001b[39m\u001b[34m(self, experiment_id, start_time, tags, run_name)\u001b[39m\n\u001b[32m    364\u001b[39m \u001b[38;5;28;01mdef\u001b[39;00m\u001b[38;5;250m \u001b[39m\u001b[34mcreate_run\u001b[39m(\n\u001b[32m    365\u001b[39m     \u001b[38;5;28mself\u001b[39m,\n\u001b[32m    366\u001b[39m     experiment_id: \u001b[38;5;28mstr\u001b[39m,\n\u001b[32m   (...)\u001b[39m\u001b[32m    369\u001b[39m     run_name: Optional[\u001b[38;5;28mstr\u001b[39m] = \u001b[38;5;28;01mNone\u001b[39;00m,\n\u001b[32m    370\u001b[39m ) -> Run:\n\u001b[32m    371\u001b[39m \u001b[38;5;250m    \u001b[39m\u001b[33;03m\"\"\"\u001b[39;00m\n\u001b[32m    372\u001b[39m \u001b[33;03m    Create a :py:class:`mlflow.entities.Run` object that can be associated with\u001b[39;00m\n\u001b[32m    373\u001b[39m \u001b[33;03m    metrics, parameters, artifacts, etc.\u001b[39;00m\n\u001b[32m   (...)\u001b[39m\u001b[32m    416\u001b[39m \u001b[33;03m        status: RUNNING\u001b[39;00m\n\u001b[32m    417\u001b[39m \u001b[33;03m    \"\"\"\u001b[39;00m\n\u001b[32m--> \u001b[39m\u001b[32m418\u001b[39m     \u001b[38;5;28;01mreturn\u001b[39;00m \u001b[38;5;28;43mself\u001b[39;49m\u001b[43m.\u001b[49m\u001b[43m_tracking_client\u001b[49m\u001b[43m.\u001b[49m\u001b[43mcreate_run\u001b[49m\u001b[43m(\u001b[49m\u001b[43mexperiment_id\u001b[49m\u001b[43m,\u001b[49m\u001b[43m \u001b[49m\u001b[43mstart_time\u001b[49m\u001b[43m,\u001b[49m\u001b[43m \u001b[49m\u001b[43mtags\u001b[49m\u001b[43m,\u001b[49m\u001b[43m \u001b[49m\u001b[43mrun_name\u001b[49m\u001b[43m)\u001b[49m\n",
      "\u001b[36mFile \u001b[39m\u001b[32mc:\\Users\\radup\\.conda\\envs\\ml\\Lib\\site-packages\\mlflow\\tracking\\_tracking_service\\client.py:171\u001b[39m, in \u001b[36mTrackingServiceClient.create_run\u001b[39m\u001b[34m(self, experiment_id, start_time, tags, run_name)\u001b[39m\n\u001b[32m    166\u001b[39m \u001b[38;5;66;03m# Extract user from tags\u001b[39;00m\n\u001b[32m    167\u001b[39m \u001b[38;5;66;03m# This logic is temporary; the user_id attribute of runs is deprecated and will be removed\u001b[39;00m\n\u001b[32m    168\u001b[39m \u001b[38;5;66;03m# in a later release.\u001b[39;00m\n\u001b[32m    169\u001b[39m user_id = tags.get(MLFLOW_USER, \u001b[33m\"\u001b[39m\u001b[33munknown\u001b[39m\u001b[33m\"\u001b[39m)\n\u001b[32m--> \u001b[39m\u001b[32m171\u001b[39m \u001b[38;5;28;01mreturn\u001b[39;00m \u001b[38;5;28;43mself\u001b[39;49m\u001b[43m.\u001b[49m\u001b[43mstore\u001b[49m\u001b[43m.\u001b[49m\u001b[43mcreate_run\u001b[49m\u001b[43m(\u001b[49m\n\u001b[32m    172\u001b[39m \u001b[43m    \u001b[49m\u001b[43mexperiment_id\u001b[49m\u001b[43m=\u001b[49m\u001b[43mexperiment_id\u001b[49m\u001b[43m,\u001b[49m\n\u001b[32m    173\u001b[39m \u001b[43m    \u001b[49m\u001b[43muser_id\u001b[49m\u001b[43m=\u001b[49m\u001b[43muser_id\u001b[49m\u001b[43m,\u001b[49m\n\u001b[32m    174\u001b[39m \u001b[43m    \u001b[49m\u001b[43mstart_time\u001b[49m\u001b[43m=\u001b[49m\u001b[43mstart_time\u001b[49m\u001b[43m \u001b[49m\u001b[38;5;129;43;01mor\u001b[39;49;00m\u001b[43m \u001b[49m\u001b[43mget_current_time_millis\u001b[49m\u001b[43m(\u001b[49m\u001b[43m)\u001b[49m\u001b[43m,\u001b[49m\n\u001b[32m    175\u001b[39m \u001b[43m    \u001b[49m\u001b[43mtags\u001b[49m\u001b[43m=\u001b[49m\u001b[43m[\u001b[49m\u001b[43mRunTag\u001b[49m\u001b[43m(\u001b[49m\u001b[43mkey\u001b[49m\u001b[43m,\u001b[49m\u001b[43m \u001b[49m\u001b[43mvalue\u001b[49m\u001b[43m)\u001b[49m\u001b[43m \u001b[49m\u001b[38;5;28;43;01mfor\u001b[39;49;00m\u001b[43m \u001b[49m\u001b[43m(\u001b[49m\u001b[43mkey\u001b[49m\u001b[43m,\u001b[49m\u001b[43m \u001b[49m\u001b[43mvalue\u001b[49m\u001b[43m)\u001b[49m\u001b[43m \u001b[49m\u001b[38;5;129;43;01min\u001b[39;49;00m\u001b[43m \u001b[49m\u001b[43mtags\u001b[49m\u001b[43m.\u001b[49m\u001b[43mitems\u001b[49m\u001b[43m(\u001b[49m\u001b[43m)\u001b[49m\u001b[43m]\u001b[49m\u001b[43m,\u001b[49m\n\u001b[32m    176\u001b[39m \u001b[43m    \u001b[49m\u001b[43mrun_name\u001b[49m\u001b[43m=\u001b[49m\u001b[43mrun_name\u001b[49m\u001b[43m,\u001b[49m\n\u001b[32m    177\u001b[39m \u001b[43m\u001b[49m\u001b[43m)\u001b[49m\n",
      "\u001b[36mFile \u001b[39m\u001b[32mc:\\Users\\radup\\.conda\\envs\\ml\\Lib\\site-packages\\mlflow\\store\\tracking\\file_store.py:644\u001b[39m, in \u001b[36mFileStore.create_run\u001b[39m\u001b[34m(self, experiment_id, user_id, start_time, tags, run_name)\u001b[39m\n\u001b[32m    640\u001b[39m \u001b[38;5;250m\u001b[39m\u001b[33;03m\"\"\"\u001b[39;00m\n\u001b[32m    641\u001b[39m \u001b[33;03mCreates a run with the specified attributes.\u001b[39;00m\n\u001b[32m    642\u001b[39m \u001b[33;03m\"\"\"\u001b[39;00m\n\u001b[32m    643\u001b[39m experiment_id = FileStore.DEFAULT_EXPERIMENT_ID \u001b[38;5;28;01mif\u001b[39;00m experiment_id \u001b[38;5;129;01mis\u001b[39;00m \u001b[38;5;28;01mNone\u001b[39;00m \u001b[38;5;28;01melse\u001b[39;00m experiment_id\n\u001b[32m--> \u001b[39m\u001b[32m644\u001b[39m experiment = \u001b[38;5;28;43mself\u001b[39;49m\u001b[43m.\u001b[49m\u001b[43mget_experiment\u001b[49m\u001b[43m(\u001b[49m\u001b[43mexperiment_id\u001b[49m\u001b[43m)\u001b[49m\n\u001b[32m    645\u001b[39m \u001b[38;5;28;01mif\u001b[39;00m experiment \u001b[38;5;129;01mis\u001b[39;00m \u001b[38;5;28;01mNone\u001b[39;00m:\n\u001b[32m    646\u001b[39m     \u001b[38;5;28;01mraise\u001b[39;00m MlflowException(\n\u001b[32m    647\u001b[39m         \u001b[33mf\u001b[39m\u001b[33m\"\u001b[39m\u001b[33mCould not create run under experiment with ID \u001b[39m\u001b[38;5;132;01m{\u001b[39;00mexperiment_id\u001b[38;5;132;01m}\u001b[39;00m\u001b[33m - no such \u001b[39m\u001b[33m\"\u001b[39m\n\u001b[32m    648\u001b[39m         \u001b[33m\"\u001b[39m\u001b[33mexperiment exists.\u001b[39m\u001b[33m\"\u001b[39m,\n\u001b[32m    649\u001b[39m         databricks_pb2.RESOURCE_DOES_NOT_EXIST,\n\u001b[32m    650\u001b[39m     )\n",
      "\u001b[36mFile \u001b[39m\u001b[32mc:\\Users\\radup\\.conda\\envs\\ml\\Lib\\site-packages\\mlflow\\store\\tracking\\file_store.py:453\u001b[39m, in \u001b[36mFileStore.get_experiment\u001b[39m\u001b[34m(self, experiment_id)\u001b[39m\n\u001b[32m    442\u001b[39m \u001b[38;5;250m\u001b[39m\u001b[33;03m\"\"\"\u001b[39;00m\n\u001b[32m    443\u001b[39m \u001b[33;03mFetch the experiment.\u001b[39;00m\n\u001b[32m    444\u001b[39m \u001b[33;03mNote: This API will search for active as well as deleted experiments.\u001b[39;00m\n\u001b[32m   (...)\u001b[39m\u001b[32m    450\u001b[39m \u001b[33;03m    A single Experiment object if it exists, otherwise raises an Exception.\u001b[39;00m\n\u001b[32m    451\u001b[39m \u001b[33;03m\"\"\"\u001b[39;00m\n\u001b[32m    452\u001b[39m experiment_id = FileStore.DEFAULT_EXPERIMENT_ID \u001b[38;5;28;01mif\u001b[39;00m experiment_id \u001b[38;5;129;01mis\u001b[39;00m \u001b[38;5;28;01mNone\u001b[39;00m \u001b[38;5;28;01melse\u001b[39;00m experiment_id\n\u001b[32m--> \u001b[39m\u001b[32m453\u001b[39m experiment = \u001b[38;5;28;43mself\u001b[39;49m\u001b[43m.\u001b[49m\u001b[43m_get_experiment\u001b[49m\u001b[43m(\u001b[49m\u001b[43mexperiment_id\u001b[49m\u001b[43m)\u001b[49m\n\u001b[32m    454\u001b[39m \u001b[38;5;28;01mif\u001b[39;00m experiment \u001b[38;5;129;01mis\u001b[39;00m \u001b[38;5;28;01mNone\u001b[39;00m:\n\u001b[32m    455\u001b[39m     \u001b[38;5;28;01mraise\u001b[39;00m MlflowException(\n\u001b[32m    456\u001b[39m         \u001b[33mf\u001b[39m\u001b[33m\"\u001b[39m\u001b[33mExperiment \u001b[39m\u001b[33m'\u001b[39m\u001b[38;5;132;01m{\u001b[39;00mexperiment_id\u001b[38;5;132;01m}\u001b[39;00m\u001b[33m'\u001b[39m\u001b[33m does not exist.\u001b[39m\u001b[33m\"\u001b[39m,\n\u001b[32m    457\u001b[39m         databricks_pb2.RESOURCE_DOES_NOT_EXIST,\n\u001b[32m    458\u001b[39m     )\n",
      "\u001b[36mFile \u001b[39m\u001b[32mc:\\Users\\radup\\.conda\\envs\\ml\\Lib\\site-packages\\mlflow\\store\\tracking\\file_store.py:427\u001b[39m, in \u001b[36mFileStore._get_experiment\u001b[39m\u001b[34m(self, experiment_id, view_type)\u001b[39m\n\u001b[32m    422\u001b[39m \u001b[38;5;28;01mif\u001b[39;00m experiment_dir \u001b[38;5;129;01mis\u001b[39;00m \u001b[38;5;28;01mNone\u001b[39;00m:\n\u001b[32m    423\u001b[39m     \u001b[38;5;28;01mraise\u001b[39;00m MlflowException(\n\u001b[32m    424\u001b[39m         \u001b[33mf\u001b[39m\u001b[33m\"\u001b[39m\u001b[33mCould not find experiment with ID \u001b[39m\u001b[38;5;132;01m{\u001b[39;00mexperiment_id\u001b[38;5;132;01m}\u001b[39;00m\u001b[33m\"\u001b[39m,\n\u001b[32m    425\u001b[39m         databricks_pb2.RESOURCE_DOES_NOT_EXIST,\n\u001b[32m    426\u001b[39m     )\n\u001b[32m--> \u001b[39m\u001b[32m427\u001b[39m meta = \u001b[43mFileStore\u001b[49m\u001b[43m.\u001b[49m\u001b[43m_read_yaml\u001b[49m\u001b[43m(\u001b[49m\u001b[43mexperiment_dir\u001b[49m\u001b[43m,\u001b[49m\u001b[43m \u001b[49m\u001b[43mFileStore\u001b[49m\u001b[43m.\u001b[49m\u001b[43mMETA_DATA_FILE_NAME\u001b[49m\u001b[43m)\u001b[49m\n\u001b[32m    428\u001b[39m meta[\u001b[33m\"\u001b[39m\u001b[33mtags\u001b[39m\u001b[33m\"\u001b[39m] = \u001b[38;5;28mself\u001b[39m.get_all_experiment_tags(experiment_id)\n\u001b[32m    429\u001b[39m experiment = _read_persisted_experiment_dict(meta)\n",
      "\u001b[36mFile \u001b[39m\u001b[32mc:\\Users\\radup\\.conda\\envs\\ml\\Lib\\site-packages\\mlflow\\store\\tracking\\file_store.py:1373\u001b[39m, in \u001b[36mFileStore._read_yaml\u001b[39m\u001b[34m(root, file_name, retries)\u001b[39m\n\u001b[32m   1370\u001b[39m         time.sleep(\u001b[32m0.1\u001b[39m * (\u001b[32m3\u001b[39m - attempts_remaining))\n\u001b[32m   1371\u001b[39m         \u001b[38;5;28;01mreturn\u001b[39;00m _read_helper(root, file_name, attempts_remaining - \u001b[32m1\u001b[39m)\n\u001b[32m-> \u001b[39m\u001b[32m1373\u001b[39m \u001b[38;5;28;01mreturn\u001b[39;00m \u001b[43m_read_helper\u001b[49m\u001b[43m(\u001b[49m\u001b[43mroot\u001b[49m\u001b[43m,\u001b[49m\u001b[43m \u001b[49m\u001b[43mfile_name\u001b[49m\u001b[43m,\u001b[49m\u001b[43m \u001b[49m\u001b[43mattempts_remaining\u001b[49m\u001b[43m=\u001b[49m\u001b[43mretries\u001b[49m\u001b[43m)\u001b[49m\n",
      "\u001b[36mFile \u001b[39m\u001b[32mc:\\Users\\radup\\.conda\\envs\\ml\\Lib\\site-packages\\mlflow\\store\\tracking\\file_store.py:1366\u001b[39m, in \u001b[36mFileStore._read_yaml.<locals>._read_helper\u001b[39m\u001b[34m(root, file_name, attempts_remaining)\u001b[39m\n\u001b[32m   1365\u001b[39m \u001b[38;5;28;01mdef\u001b[39;00m\u001b[38;5;250m \u001b[39m\u001b[34m_read_helper\u001b[39m(root, file_name, attempts_remaining=\u001b[32m2\u001b[39m):\n\u001b[32m-> \u001b[39m\u001b[32m1366\u001b[39m     result = \u001b[43mread_yaml\u001b[49m\u001b[43m(\u001b[49m\u001b[43mroot\u001b[49m\u001b[43m,\u001b[49m\u001b[43m \u001b[49m\u001b[43mfile_name\u001b[49m\u001b[43m)\u001b[49m\n\u001b[32m   1367\u001b[39m     \u001b[38;5;28;01mif\u001b[39;00m result \u001b[38;5;129;01mis\u001b[39;00m \u001b[38;5;129;01mnot\u001b[39;00m \u001b[38;5;28;01mNone\u001b[39;00m \u001b[38;5;129;01mor\u001b[39;00m attempts_remaining == \u001b[32m0\u001b[39m:\n\u001b[32m   1368\u001b[39m         \u001b[38;5;28;01mreturn\u001b[39;00m result\n",
      "\u001b[36mFile \u001b[39m\u001b[32mc:\\Users\\radup\\.conda\\envs\\ml\\Lib\\site-packages\\mlflow\\utils\\file_utils.py:310\u001b[39m, in \u001b[36mread_yaml\u001b[39m\u001b[34m(root, file_name)\u001b[39m\n\u001b[32m    308\u001b[39m file_path = os.path.join(root, file_name)\n\u001b[32m    309\u001b[39m \u001b[38;5;28;01mif\u001b[39;00m \u001b[38;5;129;01mnot\u001b[39;00m exists(file_path):\n\u001b[32m--> \u001b[39m\u001b[32m310\u001b[39m     \u001b[38;5;28;01mraise\u001b[39;00m MissingConfigException(\u001b[33mf\u001b[39m\u001b[33m\"\u001b[39m\u001b[33mYaml file \u001b[39m\u001b[33m'\u001b[39m\u001b[38;5;132;01m{\u001b[39;00mfile_path\u001b[38;5;132;01m}\u001b[39;00m\u001b[33m'\u001b[39m\u001b[33m does not exist.\u001b[39m\u001b[33m\"\u001b[39m)\n\u001b[32m    311\u001b[39m \u001b[38;5;28;01mwith\u001b[39;00m codecs.open(file_path, mode=\u001b[33m\"\u001b[39m\u001b[33mr\u001b[39m\u001b[33m\"\u001b[39m, encoding=ENCODING) \u001b[38;5;28;01mas\u001b[39;00m yaml_file:\n\u001b[32m    312\u001b[39m     \u001b[38;5;28;01mreturn\u001b[39;00m yaml.load(yaml_file, Loader=YamlSafeLoader)\n",
      "\u001b[31mMissingConfigException\u001b[39m: Yaml file 'E:\\Development\\flashml\\flashml\\mlruns\\0\\meta.yaml' does not exist."
     ]
    }
   ],
   "source": [
    "import time\n",
    "import math\n",
    "import random\n",
    "from flashml import log_metrics\n",
    "HYPERPARAMS = {\n",
    "    \"model\": \"Qwen/Qwen3-0.6B\",\n",
    "    \"continue_from_index\": -1,\n",
    "    \"seed\": 42,\n",
    "    \"batch_size\": 2,\n",
    "    \"gradient_accumulation\": 8,\n",
    "    \"epochs\": 1,\n",
    "    \"lr\": 2e-5,\n",
    "    \"betas\": (0.9, 0.999),\n",
    "    \"weight_decay\": 0.005,\n",
    "}\n",
    "loss = 10.0\n",
    "epochs = 3\n",
    "batches = 300\n",
    "for it in range(1):\n",
    "    for epoch in range(batches * epochs):\n",
    "        loss_ = math.log2(abs(loss))\n",
    "        acc = loss + random.random()\n",
    "        log_metrics(\n",
    "            {\"loss\": loss_, \"acc\": acc},\n",
    "            # step=(epoch, batches * epochs),\n",
    "            # experiment_name=None,\n",
    "        )\n",
    "        loss -= 1e-2\n",
    "        time.sleep(0.0002)\n",
    "    print(\"\\n\\n\\n\")"
   ]
  }
 ],
 "metadata": {
  "kernelspec": {
   "display_name": "ml",
   "language": "python",
   "name": "python3"
  },
  "language_info": {
   "codemirror_mode": {
    "name": "ipython",
    "version": 3
   },
   "file_extension": ".py",
   "mimetype": "text/x-python",
   "name": "python",
   "nbconvert_exporter": "python",
   "pygments_lexer": "ipython3",
   "version": "3.12.9"
  }
 },
 "nbformat": 4,
 "nbformat_minor": 5
}
