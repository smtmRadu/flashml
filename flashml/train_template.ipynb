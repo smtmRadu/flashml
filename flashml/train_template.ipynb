{
 "cells": [
  {
   "cell_type": "code",
   "execution_count": null,
   "id": "4f1da9d0",
   "metadata": {},
   "outputs": [],
   "source": [
    "import random\n",
    "\n",
    "import numpy as np\n",
    "import torch\n",
    "from torch.optim import AdamW\n",
    "\n",
    "from flashml import (\n",
    "    BatchIterator,\n",
    "    inspect_model,\n",
    "    load_checkpoint,\n",
    "    log_checkpoint,\n",
    "    log_metrics,\n",
    ")\n",
    "from flashml.schedulers import LRConsineAnnealingWithLinearWarmup\n",
    "\n",
    "CONFIG = {\n",
    "    \"resume_training\": None,  # { \"run_id\": None,\"version\": 0},  # if resume_training or run_id is None no resume\n",
    "    ############################\n",
    "    \"hidden_size\": 128,\n",
    "    \"num_epochs\": 8,\n",
    "    \"batch_size\": 64,\n",
    "    #############################\n",
    "    ##### OPTIM & Scheduler #####\n",
    "    \"gradient_accumulation_steps\": 1,\n",
    "    \"lr\": 3e-4,\n",
    "    \"betas\": (0.9, 0.999),\n",
    "    \"eps\": 1e-7,\n",
    "    \"weight_decay\": 1e-2,\n",
    "    \"lr_warm\": 0.03,\n",
    "    # SMOTE\n",
    "    # label smooth\n",
    "    # CE weight / Focal loss alpha\n",
    "    # hidden size / expansion factor\n",
    "    ##############################\n",
    "    ######## FREQUENCIES #########\n",
    "    \"validation_freq\": 10,\n",
    "    \"checkpoint_freq\": 100,\n",
    "    ####### NON IMPORTANT ########\n",
    "    \"seed\": 42,\n",
    "    \"reproducible\": False,\n",
    "    \"experiment_name\": None,\n",
    "}\n",
    "\n",
    "# === AUTO SEEDING ===\n",
    "random.seed(CONFIG[\"seed\"])\n",
    "np.random.seed(CONFIG[\"seed\"])\n",
    "torch.manual_seed(CONFIG[\"seed\"])\n",
    "torch.cuda.manual_seed_all(CONFIG[\"seed\"])\n",
    "torch.backends.cudnn.benchmark = True\n",
    "\n",
    "if CONFIG[\"reproducible\"]:\n",
    "    torch.backends.cudnn.benchmark = False\n",
    "    torch.backends.cudnn.deterministic = True\n",
    "\n",
    "# === AUTO DEVICE ===\n",
    "device = \"cpu\"\n",
    "if torch.cuda.is_available():\n",
    "    device = \"cuda\"\n",
    "elif torch.backends.mps.is_available():\n",
    "    device = \"mps\""
   ]
  },
  {
   "cell_type": "code",
   "execution_count": null,
   "id": "cc190bd1",
   "metadata": {},
   "outputs": [],
   "source": [
    "### [Load data] TODO\n",
    "train_data = None\n",
    "eval_data = None\n",
    "test_data = None\n",
    "\n",
    "batch_iterator = BatchIterator(\n",
    "    df=train_data,\n",
    "    num_epochs=CONFIG[\"num_epochs\"],\n",
    "    batch_size=CONFIG[\"batch_size\"],\n",
    "    mode=\"train\",\n",
    ")\n",
    "\n",
    "print(\"Data Loaded.\")\n",
    "\n",
    "#### [Define model] TODO\n",
    "model = None\n",
    "model.train()\n",
    "print(\"Model Loaded.\")\n",
    "inspect_model(model)\n",
    "\n",
    "optim = AdamW(\n",
    "    filter(lambda p: p.requires_grad, model.parameters()),\n",
    "    lr=CONFIG[\"lr\"],\n",
    "    betas=CONFIG[\"betas\"],\n",
    "    weight_decay=CONFIG[\"weight_decay\"],\n",
    "    fused=\"True\",\n",
    ")\n",
    "\n",
    "\n",
    "scheduler = LRConsineAnnealingWithLinearWarmup(\n",
    "    optimizer=optim,\n",
    "    max_steps=len(batch_iterator),\n",
    "    warmup_steps_ratio=CONFIG[\"lr_warm\"],\n",
    ")\n",
    "\n",
    "# === AUTO RESUMING ===\n",
    "if CONFIG[\"resume_training\"] and CONFIG[\"resume_training\"][\"run_id\"]:\n",
    "    ckpt = load_checkpoint(\n",
    "        run_id=CONFIG[\"resume_training\"][\"run_id\"],\n",
    "        version=CONFIG[\"resume_training\"][\"version\"],\n",
    "        experiment_name=CONFIG[\"experiment_name\"],\n",
    "    )\n",
    "\n",
    "    model.load_state_dict(ckpt[\"model_state_dict\"])\n",
    "    optim.load_state_dict(ckpt[\"optim_state_dict\"])\n",
    "    scheduler.load_state_dict(ckpt[\"scheduler_state_dict\"])\n",
    "    batch_iterator.load_state_dict(ckpt[\"batch_iterator_state_dict\"])\n",
    "    #### [OPTIONAL] TODO append other state dicts"
   ]
  },
  {
   "cell_type": "code",
   "execution_count": null,
   "id": "b66a0ce2",
   "metadata": {},
   "outputs": [],
   "source": [
    "for step, batch in batch_iterator:\n",
    "    ### ==================================================== Train ====================================================================================\n",
    "    model.train()\n",
    "\n",
    "    ### [] TODO forward backward\n",
    "    loss = None\n",
    "\n",
    "    if (step[0] + 1) % CONFIG[\"gradient_accumulation_steps\"] == 0:\n",
    "        optim.step()\n",
    "        optim.zero_grad()\n",
    "        scheduler.step()\n",
    "\n",
    "    log_metrics(\n",
    "        {\"loss\": loss.item(), \"lr\": scheduler.current_lr},\n",
    "        step=step,\n",
    "        hyperparams=CONFIG,\n",
    "        experiment_name=CONFIG[\"experiment_name\"],\n",
    "    )\n",
    "\n",
    "    ### =================================================== Validation ==============================================================================\n",
    "    if CONFIG[\"validation_freq\"] > 0 and (\n",
    "        (step[0] > 0 and step[0] % CONFIG[\"validation_freq\"] == 0) or step[0] == step[1]\n",
    "    ):\n",
    "        model.eval()\n",
    "        with torch.no_grad():\n",
    "            preds = []\n",
    "            targs = []\n",
    "\n",
    "            for step_ev, batch_ev in BatchIterator(\n",
    "                df=eval_data,\n",
    "                num_epochs=1,\n",
    "                batch_size=CONFIG[\"batch_size\"] * 2,\n",
    "                mode=\"eval\",\n",
    "            ):\n",
    "                pass  ### [] TODO eval\n",
    "\n",
    "            eval_metrics = None  # compute_metrics(preds, targs)\n",
    "\n",
    "            log_metrics(\n",
    "                metrics=eval_metrics,\n",
    "                step=step,\n",
    "                experiment_name=CONFIG[\"experiment_name\"],\n",
    "            )\n",
    "\n",
    "    if (\n",
    "        step[0] > 0 and step[0] % CONFIG[\"checkpoint_freq\"] == 0\n",
    "    ):  # or check for newer best result\n",
    "        log_checkpoint(\n",
    "            state_dict={\n",
    "                \"model_state_dict\": model.state_dict(),\n",
    "                \"optim_state_dict\": optim.state_dict(),\n",
    "                \"scheduler_state_dict\": scheduler.state_dict(),\n",
    "                \"batch_iterator_state_dict\": batch_iterator.state_dict(),\n",
    "            }\n",
    "        )"
   ]
  },
  {
   "cell_type": "code",
   "execution_count": null,
   "id": "99f29bb1",
   "metadata": {},
   "outputs": [],
   "source": [
    "### HOST MLFLOW (without logging anything) ###\n",
    "from flashml import host_mlflow\n",
    "\n",
    "host_mlflow()\n"
   ]
  },
  {
   "cell_type": "code",
   "execution_count": 1,
   "id": "9fd396a9",
   "metadata": {},
   "outputs": [
    {
     "name": "stderr",
     "output_type": "stream",
     "text": [
      "100%|██████████| 19/19 [00:00<00:00, 82.98it/s]\n"
     ]
    },
    {
     "data": {
      "application/vnd.plotly.v1+json": {
       "config": {
        "plotlyServerURL": "https://plot.ly"
       },
       "data": [
        {
         "mode": "lines+markers",
         "name": "Inertia",
         "showlegend": false,
         "type": "scatter",
         "x": [
          2,
          3,
          4,
          5,
          6,
          7,
          8,
          9,
          10,
          11,
          12,
          13,
          14,
          15,
          16,
          17,
          18,
          19,
          20
         ],
         "y": [
          685.8568900302073,
          351.50022224986736,
          238.2568497029869,
          224.1354200296357,
          138.74603581075326,
          122.77921358032138,
          96.06716059283002,
          93.51643939465355,
          72.0089984165273,
          61.12401692658932,
          55.119100562865285,
          48.23998597137,
          43.789771453582354,
          41.43537053740445,
          33.62326764925638,
          34.01867855238254,
          31.382278928267922,
          27.99129188807033,
          24.82281799766614
         ]
        },
        {
         "marker": {
          "color": "red",
          "size": 8,
          "symbol": "circle"
         },
         "mode": "markers+text",
         "name": "Elbow Point (k=6)",
         "showlegend": false,
         "text": [
          "k=6"
         ],
         "textposition": "top center",
         "type": "scatter",
         "x": [
          6
         ],
         "y": [
          138.74603581075326
         ]
        }
       ],
       "layout": {
        "shapes": [
         {
          "line": {
           "color": "red"
          },
          "type": "circle",
          "x0": 5.5,
          "x1": 6.5,
          "xref": "x",
          "y0": 131.80873402021558,
          "y1": 145.68333760129093,
          "yref": "y"
         }
        ],
        "showlegend": true,
        "template": {
         "data": {
          "bar": [
           {
            "error_x": {
             "color": "#f2f5fa"
            },
            "error_y": {
             "color": "#f2f5fa"
            },
            "marker": {
             "line": {
              "color": "rgb(17,17,17)",
              "width": 0.5
             },
             "pattern": {
              "fillmode": "overlay",
              "size": 10,
              "solidity": 0.2
             }
            },
            "type": "bar"
           }
          ],
          "barpolar": [
           {
            "marker": {
             "line": {
              "color": "rgb(17,17,17)",
              "width": 0.5
             },
             "pattern": {
              "fillmode": "overlay",
              "size": 10,
              "solidity": 0.2
             }
            },
            "type": "barpolar"
           }
          ],
          "carpet": [
           {
            "aaxis": {
             "endlinecolor": "#A2B1C6",
             "gridcolor": "#506784",
             "linecolor": "#506784",
             "minorgridcolor": "#506784",
             "startlinecolor": "#A2B1C6"
            },
            "baxis": {
             "endlinecolor": "#A2B1C6",
             "gridcolor": "#506784",
             "linecolor": "#506784",
             "minorgridcolor": "#506784",
             "startlinecolor": "#A2B1C6"
            },
            "type": "carpet"
           }
          ],
          "choropleth": [
           {
            "colorbar": {
             "outlinewidth": 0,
             "ticks": ""
            },
            "type": "choropleth"
           }
          ],
          "contour": [
           {
            "colorbar": {
             "outlinewidth": 0,
             "ticks": ""
            },
            "colorscale": [
             [
              0,
              "#0d0887"
             ],
             [
              0.1111111111111111,
              "#46039f"
             ],
             [
              0.2222222222222222,
              "#7201a8"
             ],
             [
              0.3333333333333333,
              "#9c179e"
             ],
             [
              0.4444444444444444,
              "#bd3786"
             ],
             [
              0.5555555555555556,
              "#d8576b"
             ],
             [
              0.6666666666666666,
              "#ed7953"
             ],
             [
              0.7777777777777778,
              "#fb9f3a"
             ],
             [
              0.8888888888888888,
              "#fdca26"
             ],
             [
              1,
              "#f0f921"
             ]
            ],
            "type": "contour"
           }
          ],
          "contourcarpet": [
           {
            "colorbar": {
             "outlinewidth": 0,
             "ticks": ""
            },
            "type": "contourcarpet"
           }
          ],
          "heatmap": [
           {
            "colorbar": {
             "outlinewidth": 0,
             "ticks": ""
            },
            "colorscale": [
             [
              0,
              "#0d0887"
             ],
             [
              0.1111111111111111,
              "#46039f"
             ],
             [
              0.2222222222222222,
              "#7201a8"
             ],
             [
              0.3333333333333333,
              "#9c179e"
             ],
             [
              0.4444444444444444,
              "#bd3786"
             ],
             [
              0.5555555555555556,
              "#d8576b"
             ],
             [
              0.6666666666666666,
              "#ed7953"
             ],
             [
              0.7777777777777778,
              "#fb9f3a"
             ],
             [
              0.8888888888888888,
              "#fdca26"
             ],
             [
              1,
              "#f0f921"
             ]
            ],
            "type": "heatmap"
           }
          ],
          "histogram": [
           {
            "marker": {
             "pattern": {
              "fillmode": "overlay",
              "size": 10,
              "solidity": 0.2
             }
            },
            "type": "histogram"
           }
          ],
          "histogram2d": [
           {
            "colorbar": {
             "outlinewidth": 0,
             "ticks": ""
            },
            "colorscale": [
             [
              0,
              "#0d0887"
             ],
             [
              0.1111111111111111,
              "#46039f"
             ],
             [
              0.2222222222222222,
              "#7201a8"
             ],
             [
              0.3333333333333333,
              "#9c179e"
             ],
             [
              0.4444444444444444,
              "#bd3786"
             ],
             [
              0.5555555555555556,
              "#d8576b"
             ],
             [
              0.6666666666666666,
              "#ed7953"
             ],
             [
              0.7777777777777778,
              "#fb9f3a"
             ],
             [
              0.8888888888888888,
              "#fdca26"
             ],
             [
              1,
              "#f0f921"
             ]
            ],
            "type": "histogram2d"
           }
          ],
          "histogram2dcontour": [
           {
            "colorbar": {
             "outlinewidth": 0,
             "ticks": ""
            },
            "colorscale": [
             [
              0,
              "#0d0887"
             ],
             [
              0.1111111111111111,
              "#46039f"
             ],
             [
              0.2222222222222222,
              "#7201a8"
             ],
             [
              0.3333333333333333,
              "#9c179e"
             ],
             [
              0.4444444444444444,
              "#bd3786"
             ],
             [
              0.5555555555555556,
              "#d8576b"
             ],
             [
              0.6666666666666666,
              "#ed7953"
             ],
             [
              0.7777777777777778,
              "#fb9f3a"
             ],
             [
              0.8888888888888888,
              "#fdca26"
             ],
             [
              1,
              "#f0f921"
             ]
            ],
            "type": "histogram2dcontour"
           }
          ],
          "mesh3d": [
           {
            "colorbar": {
             "outlinewidth": 0,
             "ticks": ""
            },
            "type": "mesh3d"
           }
          ],
          "parcoords": [
           {
            "line": {
             "colorbar": {
              "outlinewidth": 0,
              "ticks": ""
             }
            },
            "type": "parcoords"
           }
          ],
          "pie": [
           {
            "automargin": true,
            "type": "pie"
           }
          ],
          "scatter": [
           {
            "marker": {
             "line": {
              "color": "#283442"
             }
            },
            "type": "scatter"
           }
          ],
          "scatter3d": [
           {
            "line": {
             "colorbar": {
              "outlinewidth": 0,
              "ticks": ""
             }
            },
            "marker": {
             "colorbar": {
              "outlinewidth": 0,
              "ticks": ""
             }
            },
            "type": "scatter3d"
           }
          ],
          "scattercarpet": [
           {
            "marker": {
             "colorbar": {
              "outlinewidth": 0,
              "ticks": ""
             }
            },
            "type": "scattercarpet"
           }
          ],
          "scattergeo": [
           {
            "marker": {
             "colorbar": {
              "outlinewidth": 0,
              "ticks": ""
             }
            },
            "type": "scattergeo"
           }
          ],
          "scattergl": [
           {
            "marker": {
             "line": {
              "color": "#283442"
             }
            },
            "type": "scattergl"
           }
          ],
          "scattermap": [
           {
            "marker": {
             "colorbar": {
              "outlinewidth": 0,
              "ticks": ""
             }
            },
            "type": "scattermap"
           }
          ],
          "scattermapbox": [
           {
            "marker": {
             "colorbar": {
              "outlinewidth": 0,
              "ticks": ""
             }
            },
            "type": "scattermapbox"
           }
          ],
          "scatterpolar": [
           {
            "marker": {
             "colorbar": {
              "outlinewidth": 0,
              "ticks": ""
             }
            },
            "type": "scatterpolar"
           }
          ],
          "scatterpolargl": [
           {
            "marker": {
             "colorbar": {
              "outlinewidth": 0,
              "ticks": ""
             }
            },
            "type": "scatterpolargl"
           }
          ],
          "scatterternary": [
           {
            "marker": {
             "colorbar": {
              "outlinewidth": 0,
              "ticks": ""
             }
            },
            "type": "scatterternary"
           }
          ],
          "surface": [
           {
            "colorbar": {
             "outlinewidth": 0,
             "ticks": ""
            },
            "colorscale": [
             [
              0,
              "#0d0887"
             ],
             [
              0.1111111111111111,
              "#46039f"
             ],
             [
              0.2222222222222222,
              "#7201a8"
             ],
             [
              0.3333333333333333,
              "#9c179e"
             ],
             [
              0.4444444444444444,
              "#bd3786"
             ],
             [
              0.5555555555555556,
              "#d8576b"
             ],
             [
              0.6666666666666666,
              "#ed7953"
             ],
             [
              0.7777777777777778,
              "#fb9f3a"
             ],
             [
              0.8888888888888888,
              "#fdca26"
             ],
             [
              1,
              "#f0f921"
             ]
            ],
            "type": "surface"
           }
          ],
          "table": [
           {
            "cells": {
             "fill": {
              "color": "#506784"
             },
             "line": {
              "color": "rgb(17,17,17)"
             }
            },
            "header": {
             "fill": {
              "color": "#2a3f5f"
             },
             "line": {
              "color": "rgb(17,17,17)"
             }
            },
            "type": "table"
           }
          ]
         },
         "layout": {
          "annotationdefaults": {
           "arrowcolor": "#f2f5fa",
           "arrowhead": 0,
           "arrowwidth": 1
          },
          "autotypenumbers": "strict",
          "coloraxis": {
           "colorbar": {
            "outlinewidth": 0,
            "ticks": ""
           }
          },
          "colorscale": {
           "diverging": [
            [
             0,
             "#8e0152"
            ],
            [
             0.1,
             "#c51b7d"
            ],
            [
             0.2,
             "#de77ae"
            ],
            [
             0.3,
             "#f1b6da"
            ],
            [
             0.4,
             "#fde0ef"
            ],
            [
             0.5,
             "#f7f7f7"
            ],
            [
             0.6,
             "#e6f5d0"
            ],
            [
             0.7,
             "#b8e186"
            ],
            [
             0.8,
             "#7fbc41"
            ],
            [
             0.9,
             "#4d9221"
            ],
            [
             1,
             "#276419"
            ]
           ],
           "sequential": [
            [
             0,
             "#0d0887"
            ],
            [
             0.1111111111111111,
             "#46039f"
            ],
            [
             0.2222222222222222,
             "#7201a8"
            ],
            [
             0.3333333333333333,
             "#9c179e"
            ],
            [
             0.4444444444444444,
             "#bd3786"
            ],
            [
             0.5555555555555556,
             "#d8576b"
            ],
            [
             0.6666666666666666,
             "#ed7953"
            ],
            [
             0.7777777777777778,
             "#fb9f3a"
            ],
            [
             0.8888888888888888,
             "#fdca26"
            ],
            [
             1,
             "#f0f921"
            ]
           ],
           "sequentialminus": [
            [
             0,
             "#0d0887"
            ],
            [
             0.1111111111111111,
             "#46039f"
            ],
            [
             0.2222222222222222,
             "#7201a8"
            ],
            [
             0.3333333333333333,
             "#9c179e"
            ],
            [
             0.4444444444444444,
             "#bd3786"
            ],
            [
             0.5555555555555556,
             "#d8576b"
            ],
            [
             0.6666666666666666,
             "#ed7953"
            ],
            [
             0.7777777777777778,
             "#fb9f3a"
            ],
            [
             0.8888888888888888,
             "#fdca26"
            ],
            [
             1,
             "#f0f921"
            ]
           ]
          },
          "colorway": [
           "#636efa",
           "#EF553B",
           "#00cc96",
           "#ab63fa",
           "#FFA15A",
           "#19d3f3",
           "#FF6692",
           "#B6E880",
           "#FF97FF",
           "#FECB52"
          ],
          "font": {
           "color": "#f2f5fa"
          },
          "geo": {
           "bgcolor": "rgb(17,17,17)",
           "lakecolor": "rgb(17,17,17)",
           "landcolor": "rgb(17,17,17)",
           "showlakes": true,
           "showland": true,
           "subunitcolor": "#506784"
          },
          "hoverlabel": {
           "align": "left"
          },
          "hovermode": "closest",
          "mapbox": {
           "style": "dark"
          },
          "paper_bgcolor": "rgb(17,17,17)",
          "plot_bgcolor": "rgb(17,17,17)",
          "polar": {
           "angularaxis": {
            "gridcolor": "#506784",
            "linecolor": "#506784",
            "ticks": ""
           },
           "bgcolor": "rgb(17,17,17)",
           "radialaxis": {
            "gridcolor": "#506784",
            "linecolor": "#506784",
            "ticks": ""
           }
          },
          "scene": {
           "xaxis": {
            "backgroundcolor": "rgb(17,17,17)",
            "gridcolor": "#506784",
            "gridwidth": 2,
            "linecolor": "#506784",
            "showbackground": true,
            "ticks": "",
            "zerolinecolor": "#C8D4E3"
           },
           "yaxis": {
            "backgroundcolor": "rgb(17,17,17)",
            "gridcolor": "#506784",
            "gridwidth": 2,
            "linecolor": "#506784",
            "showbackground": true,
            "ticks": "",
            "zerolinecolor": "#C8D4E3"
           },
           "zaxis": {
            "backgroundcolor": "rgb(17,17,17)",
            "gridcolor": "#506784",
            "gridwidth": 2,
            "linecolor": "#506784",
            "showbackground": true,
            "ticks": "",
            "zerolinecolor": "#C8D4E3"
           }
          },
          "shapedefaults": {
           "line": {
            "color": "#f2f5fa"
           }
          },
          "sliderdefaults": {
           "bgcolor": "#C8D4E3",
           "bordercolor": "rgb(17,17,17)",
           "borderwidth": 1,
           "tickwidth": 0
          },
          "ternary": {
           "aaxis": {
            "gridcolor": "#506784",
            "linecolor": "#506784",
            "ticks": ""
           },
           "baxis": {
            "gridcolor": "#506784",
            "linecolor": "#506784",
            "ticks": ""
           },
           "bgcolor": "rgb(17,17,17)",
           "caxis": {
            "gridcolor": "#506784",
            "linecolor": "#506784",
            "ticks": ""
           }
          },
          "title": {
           "x": 0.05
          },
          "updatemenudefaults": {
           "bgcolor": "#506784",
           "borderwidth": 0
          },
          "xaxis": {
           "automargin": true,
           "gridcolor": "#283442",
           "linecolor": "#506784",
           "ticks": "",
           "title": {
            "standoff": 15
           },
           "zerolinecolor": "#283442",
           "zerolinewidth": 2
          },
          "yaxis": {
           "automargin": true,
           "gridcolor": "#283442",
           "linecolor": "#506784",
           "ticks": "",
           "title": {
            "standoff": 15
           },
           "zerolinecolor": "#283442",
           "zerolinewidth": 2
          }
         }
        },
        "title": {
         "text": "K-Means (Elbow Method)"
        },
        "xaxis": {
         "title": {
          "text": "Number of clusters"
         }
        },
        "yaxis": {
         "title": {
          "text": "Inertia"
         }
        }
       }
      }
     },
     "metadata": {},
     "output_type": "display_data"
    },
    {
     "name": "stdout",
     "output_type": "stream",
     "text": [
      "\u001b[34mKMeans (Elbow Method) optimal number of clusters: 6\u001b[37m\n",
      "[[ 2.99906927  2.99974609]\n",
      " [-0.71105224 -3.97219423]\n",
      " [ 0.4257793   0.57751349]\n",
      " [-5.13928656 -0.71943691]\n",
      " [-4.11785108 -6.13758915]\n",
      " [-3.57020212 -2.82534232]]\n"
     ]
    }
   ],
   "source": [
    "from flashml.clustering import run_kmeans\n",
    "import os\n",
    "os.environ[\"LOKY_MAX_CPU_COUNT\"] = \"4\"\n",
    "# generate random data\n",
    "import numpy as np\n",
    "np.random.seed(0)\n",
    "x = np.random.normal(size=(50, 2), loc=-3, scale=2)\n",
    "x = np.concat([x, np.random.normal(size=(50, 2), loc=0.5, scale=0.5)], axis=0)\n",
    "x = np.concat([x, np.random.normal(size=(50, 2), loc=3, scale=0.01)], axis=0)\n",
    "# run kmeans\n",
    "kmeans = run_kmeans(x)\n",
    "\n",
    "# print the results\n",
    "print(kmeans.cluster_centers_)"
   ]
  },
  {
   "cell_type": "code",
   "execution_count": 4,
   "id": "d11a10c8",
   "metadata": {},
   "outputs": [],
   "source": [
    "x = np.random.normal(size=(1000, 1), loc=-3, scale=2)\n",
    "\n",
    "x = np.concat([x, np.random.normal(size=(1000, 1), loc=10, scale=2)], axis=0)"
   ]
  }
 ],
 "metadata": {
  "kernelspec": {
   "display_name": "ml",
   "language": "python",
   "name": "python3"
  },
  "language_info": {
   "codemirror_mode": {
    "name": "ipython",
    "version": 3
   },
   "file_extension": ".py",
   "mimetype": "text/x-python",
   "name": "python",
   "nbconvert_exporter": "python",
   "pygments_lexer": "ipython3",
   "version": "3.12.9"
  }
 },
 "nbformat": 4,
 "nbformat_minor": 5
}
